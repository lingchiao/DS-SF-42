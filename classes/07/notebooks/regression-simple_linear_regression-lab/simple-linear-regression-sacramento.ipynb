{
 "cells": [
  {
   "cell_type": "markdown",
   "metadata": {},
   "source": [
    "<img src=\"http://imgur.com/1ZcRyrc.png\" style=\"float: left; margin: 20px; height: 55px\">\n",
    "\n",
    "# Simple Linear Regression with Sacramento Real Estate Data\n",
    "\n",
    "_Authors: Matt Brems, Sam Stack_\n",
    "\n",
    "---\n",
    "\n",
    "In this lab you will hone your EDA skills and practice constructing simple linear regressions using a dataset on Sacramento real estate sales.  The dataset contains information on qualities of the property, location of the property, and time of sale."
   ]
  },
  {
   "cell_type": "markdown",
   "metadata": {},
   "source": [
    "### 1. Read in the Sacramento housing data set."
   ]
  },
  {
   "cell_type": "code",
   "execution_count": 7,
   "metadata": {
    "collapsed": true
   },
   "outputs": [],
   "source": [
    "sac_csv = './datasets/sacramento_real_estate_transactions.csv'"
   ]
  },
  {
   "cell_type": "code",
   "execution_count": 4,
   "metadata": {},
   "outputs": [],
   "source": [
    "import pandas as pd\n",
    "import seaborn as sns\n",
    "import matplotlib.pyplot as plt\n",
    "import numpy as np\n",
    "import scipy.stats\n",
    "\n",
    "% matplotlib inline"
   ]
  },
  {
   "cell_type": "markdown",
   "metadata": {},
   "source": [
    "### 2. Conduct exploratory data analysis on this data set. \n",
    "\n",
    "**Report any notable findings here and any steps you take to clean/process data.**\n",
    "\n",
    "> **Note:** These EDA checks should be done on every data set we give you. If you find yourself checking for, say, missing/corrupted data over and over, it might be to your long-term benefit to have a function that you can re-use every time you're given some new data."
   ]
  },
  {
   "cell_type": "code",
   "execution_count": 9,
   "metadata": {},
   "outputs": [
    {
     "data": {
      "text/html": [
       "<div>\n",
       "<style>\n",
       "    .dataframe thead tr:only-child th {\n",
       "        text-align: right;\n",
       "    }\n",
       "\n",
       "    .dataframe thead th {\n",
       "        text-align: left;\n",
       "    }\n",
       "\n",
       "    .dataframe tbody tr th {\n",
       "        vertical-align: top;\n",
       "    }\n",
       "</style>\n",
       "<table border=\"1\" class=\"dataframe\">\n",
       "  <thead>\n",
       "    <tr style=\"text-align: right;\">\n",
       "      <th></th>\n",
       "      <th>street</th>\n",
       "      <th>city</th>\n",
       "      <th>zip</th>\n",
       "      <th>state</th>\n",
       "      <th>beds</th>\n",
       "      <th>baths</th>\n",
       "      <th>sq__ft</th>\n",
       "      <th>type</th>\n",
       "      <th>sale_date</th>\n",
       "      <th>price</th>\n",
       "      <th>latitude</th>\n",
       "      <th>longitude</th>\n",
       "    </tr>\n",
       "  </thead>\n",
       "  <tbody>\n",
       "    <tr>\n",
       "      <th>0</th>\n",
       "      <td>3526 HIGH ST</td>\n",
       "      <td>SACRAMENTO</td>\n",
       "      <td>95838</td>\n",
       "      <td>CA</td>\n",
       "      <td>2</td>\n",
       "      <td>1</td>\n",
       "      <td>836</td>\n",
       "      <td>Residential</td>\n",
       "      <td>Wed May 21 00:00:00 EDT 2008</td>\n",
       "      <td>59222</td>\n",
       "      <td>38.631913</td>\n",
       "      <td>-121.434879</td>\n",
       "    </tr>\n",
       "    <tr>\n",
       "      <th>1</th>\n",
       "      <td>51 OMAHA CT</td>\n",
       "      <td>SACRAMENTO</td>\n",
       "      <td>95823</td>\n",
       "      <td>CA</td>\n",
       "      <td>3</td>\n",
       "      <td>1</td>\n",
       "      <td>1167</td>\n",
       "      <td>Residential</td>\n",
       "      <td>Wed May 21 00:00:00 EDT 2008</td>\n",
       "      <td>68212</td>\n",
       "      <td>38.478902</td>\n",
       "      <td>-121.431028</td>\n",
       "    </tr>\n",
       "    <tr>\n",
       "      <th>2</th>\n",
       "      <td>2796 BRANCH ST</td>\n",
       "      <td>SACRAMENTO</td>\n",
       "      <td>95815</td>\n",
       "      <td>CA</td>\n",
       "      <td>2</td>\n",
       "      <td>1</td>\n",
       "      <td>796</td>\n",
       "      <td>Residential</td>\n",
       "      <td>Wed May 21 00:00:00 EDT 2008</td>\n",
       "      <td>68880</td>\n",
       "      <td>38.618305</td>\n",
       "      <td>-121.443839</td>\n",
       "    </tr>\n",
       "    <tr>\n",
       "      <th>3</th>\n",
       "      <td>2805 JANETTE WAY</td>\n",
       "      <td>SACRAMENTO</td>\n",
       "      <td>95815</td>\n",
       "      <td>CA</td>\n",
       "      <td>2</td>\n",
       "      <td>1</td>\n",
       "      <td>852</td>\n",
       "      <td>Residential</td>\n",
       "      <td>Wed May 21 00:00:00 EDT 2008</td>\n",
       "      <td>69307</td>\n",
       "      <td>38.616835</td>\n",
       "      <td>-121.439146</td>\n",
       "    </tr>\n",
       "    <tr>\n",
       "      <th>4</th>\n",
       "      <td>6001 MCMAHON DR</td>\n",
       "      <td>SACRAMENTO</td>\n",
       "      <td>95824</td>\n",
       "      <td>CA</td>\n",
       "      <td>2</td>\n",
       "      <td>1</td>\n",
       "      <td>797</td>\n",
       "      <td>Residential</td>\n",
       "      <td>Wed May 21 00:00:00 EDT 2008</td>\n",
       "      <td>81900</td>\n",
       "      <td>38.519470</td>\n",
       "      <td>-121.435768</td>\n",
       "    </tr>\n",
       "  </tbody>\n",
       "</table>\n",
       "</div>"
      ],
      "text/plain": [
       "             street        city    zip state  beds  baths  sq__ft  \\\n",
       "0      3526 HIGH ST  SACRAMENTO  95838    CA     2      1     836   \n",
       "1       51 OMAHA CT  SACRAMENTO  95823    CA     3      1    1167   \n",
       "2    2796 BRANCH ST  SACRAMENTO  95815    CA     2      1     796   \n",
       "3  2805 JANETTE WAY  SACRAMENTO  95815    CA     2      1     852   \n",
       "4   6001 MCMAHON DR  SACRAMENTO  95824    CA     2      1     797   \n",
       "\n",
       "          type                     sale_date  price   latitude   longitude  \n",
       "0  Residential  Wed May 21 00:00:00 EDT 2008  59222  38.631913 -121.434879  \n",
       "1  Residential  Wed May 21 00:00:00 EDT 2008  68212  38.478902 -121.431028  \n",
       "2  Residential  Wed May 21 00:00:00 EDT 2008  68880  38.618305 -121.443839  \n",
       "3  Residential  Wed May 21 00:00:00 EDT 2008  69307  38.616835 -121.439146  \n",
       "4  Residential  Wed May 21 00:00:00 EDT 2008  81900  38.519470 -121.435768  "
      ]
     },
     "execution_count": 9,
     "metadata": {},
     "output_type": "execute_result"
    }
   ],
   "source": [
    "# A:\n",
    "df = pd.read_csv(sac_csv)\n",
    "df.head()"
   ]
  },
  {
   "cell_type": "code",
   "execution_count": 19,
   "metadata": {},
   "outputs": [
    {
     "data": {
      "text/plain": [
       "street        object\n",
       "city          object\n",
       "zip            int64\n",
       "state         object\n",
       "beds           int64\n",
       "baths          int64\n",
       "sq__ft         int64\n",
       "type          object\n",
       "sale_date     object\n",
       "price          int64\n",
       "latitude     float64\n",
       "longitude    float64\n",
       "dtype: object"
      ]
     },
     "execution_count": 19,
     "metadata": {},
     "output_type": "execute_result"
    }
   ],
   "source": [
    "df.dtypes"
   ]
  },
  {
   "cell_type": "code",
   "execution_count": 20,
   "metadata": {
    "collapsed": true
   },
   "outputs": [],
   "source": [
    "df['zip'] = df['zip'].astype(str)"
   ]
  },
  {
   "cell_type": "code",
   "execution_count": 21,
   "metadata": {},
   "outputs": [
    {
     "data": {
      "text/plain": [
       "street        object\n",
       "city          object\n",
       "zip           object\n",
       "state         object\n",
       "beds           int64\n",
       "baths          int64\n",
       "sq__ft         int64\n",
       "type          object\n",
       "sale_date     object\n",
       "price          int64\n",
       "latitude     float64\n",
       "longitude    float64\n",
       "dtype: object"
      ]
     },
     "execution_count": 21,
     "metadata": {},
     "output_type": "execute_result"
    }
   ],
   "source": [
    "df.dtypes"
   ]
  },
  {
   "cell_type": "code",
   "execution_count": 23,
   "metadata": {},
   "outputs": [
    {
     "data": {
      "text/plain": [
       "SACRAMENTO         439\n",
       "ELK GROVE          114\n",
       "LINCOLN             72\n",
       "ROSEVILLE           48\n",
       "CITRUS HEIGHTS      35\n",
       "ANTELOPE            33\n",
       "RANCHO CORDOVA      28\n",
       "EL DORADO HILLS     23\n",
       "NORTH HIGHLANDS     21\n",
       "GALT                21\n",
       "CARMICHAEL          20\n",
       "ROCKLIN             17\n",
       "FOLSOM              17\n",
       "RIO LINDA           13\n",
       "ORANGEVALE          11\n",
       "PLACERVILLE         10\n",
       "CAMERON PARK         9\n",
       "FAIR OAKS            9\n",
       "AUBURN               5\n",
       "WILTON               5\n",
       "ELVERTA              4\n",
       "GOLD RIVER           4\n",
       "RANCHO MURIETA       3\n",
       "GRANITE BAY          3\n",
       "WEST SACRAMENTO      3\n",
       "POLLOCK PINES        3\n",
       "EL DORADO            2\n",
       "LOOMIS               2\n",
       "MEADOW VISTA         1\n",
       "SLOUGHHOUSE          1\n",
       "WALNUT GROVE         1\n",
       "PENRYN               1\n",
       "MATHER               1\n",
       "COOL                 1\n",
       "SHINGLE SPRINGS      1\n",
       "FORESTHILL           1\n",
       "DIAMOND SPRINGS      1\n",
       "GARDEN VALLEY        1\n",
       "GREENWOOD            1\n",
       "Name: city, dtype: int64"
      ]
     },
     "execution_count": 23,
     "metadata": {},
     "output_type": "execute_result"
    }
   ],
   "source": [
    "df['city'].value_counts()"
   ]
  },
  {
   "cell_type": "code",
   "execution_count": 24,
   "metadata": {},
   "outputs": [
    {
     "data": {
      "text/html": [
       "<div>\n",
       "<style>\n",
       "    .dataframe thead tr:only-child th {\n",
       "        text-align: right;\n",
       "    }\n",
       "\n",
       "    .dataframe thead th {\n",
       "        text-align: left;\n",
       "    }\n",
       "\n",
       "    .dataframe tbody tr th {\n",
       "        vertical-align: top;\n",
       "    }\n",
       "</style>\n",
       "<table border=\"1\" class=\"dataframe\">\n",
       "  <thead>\n",
       "    <tr style=\"text-align: right;\">\n",
       "      <th></th>\n",
       "      <th>street</th>\n",
       "      <th>city</th>\n",
       "      <th>zip</th>\n",
       "      <th>state</th>\n",
       "      <th>beds</th>\n",
       "      <th>baths</th>\n",
       "      <th>sq__ft</th>\n",
       "      <th>type</th>\n",
       "      <th>sale_date</th>\n",
       "      <th>price</th>\n",
       "      <th>latitude</th>\n",
       "      <th>longitude</th>\n",
       "    </tr>\n",
       "  </thead>\n",
       "  <tbody>\n",
       "    <tr>\n",
       "      <th>703</th>\n",
       "      <td>1900 DANBROOK DR</td>\n",
       "      <td>SACRAMENTO</td>\n",
       "      <td>95835</td>\n",
       "      <td>AC</td>\n",
       "      <td>1</td>\n",
       "      <td>1</td>\n",
       "      <td>-984</td>\n",
       "      <td>Condo</td>\n",
       "      <td>Fri May 16 00:00:00 EDT 2008</td>\n",
       "      <td>-210944</td>\n",
       "      <td>-121.503471</td>\n",
       "      <td>38.668433</td>\n",
       "    </tr>\n",
       "  </tbody>\n",
       "</table>\n",
       "</div>"
      ],
      "text/plain": [
       "               street        city    zip state  beds  baths  sq__ft   type  \\\n",
       "703  1900 DANBROOK DR  SACRAMENTO  95835    AC     1      1    -984  Condo   \n",
       "\n",
       "                        sale_date   price    latitude  longitude  \n",
       "703  Fri May 16 00:00:00 EDT 2008 -210944 -121.503471  38.668433  "
      ]
     },
     "execution_count": 24,
     "metadata": {},
     "output_type": "execute_result"
    }
   ],
   "source": [
    "df[df['price'] < 0]"
   ]
  },
  {
   "cell_type": "code",
   "execution_count": 26,
   "metadata": {},
   "outputs": [],
   "source": [
    "df.drop(703, inplace = True)"
   ]
  },
  {
   "cell_type": "code",
   "execution_count": 27,
   "metadata": {},
   "outputs": [
    {
     "data": {
      "text/html": [
       "<div>\n",
       "<style>\n",
       "    .dataframe thead tr:only-child th {\n",
       "        text-align: right;\n",
       "    }\n",
       "\n",
       "    .dataframe thead th {\n",
       "        text-align: left;\n",
       "    }\n",
       "\n",
       "    .dataframe tbody tr th {\n",
       "        vertical-align: top;\n",
       "    }\n",
       "</style>\n",
       "<table border=\"1\" class=\"dataframe\">\n",
       "  <thead>\n",
       "    <tr style=\"text-align: right;\">\n",
       "      <th></th>\n",
       "      <th>street</th>\n",
       "      <th>city</th>\n",
       "      <th>zip</th>\n",
       "      <th>state</th>\n",
       "      <th>beds</th>\n",
       "      <th>baths</th>\n",
       "      <th>sq__ft</th>\n",
       "      <th>type</th>\n",
       "      <th>sale_date</th>\n",
       "      <th>price</th>\n",
       "      <th>latitude</th>\n",
       "      <th>longitude</th>\n",
       "    </tr>\n",
       "  </thead>\n",
       "  <tbody>\n",
       "  </tbody>\n",
       "</table>\n",
       "</div>"
      ],
      "text/plain": [
       "Empty DataFrame\n",
       "Columns: [street, city, zip, state, beds, baths, sq__ft, type, sale_date, price, latitude, longitude]\n",
       "Index: []"
      ]
     },
     "execution_count": 27,
     "metadata": {},
     "output_type": "execute_result"
    }
   ],
   "source": [
    "df[df['price'] < 0]"
   ]
  },
  {
   "cell_type": "code",
   "execution_count": 29,
   "metadata": {},
   "outputs": [
    {
     "data": {
      "text/plain": [
       "(984, 12)"
      ]
     },
     "execution_count": 29,
     "metadata": {},
     "output_type": "execute_result"
    }
   ],
   "source": [
    "df.shape"
   ]
  },
  {
   "cell_type": "markdown",
   "metadata": {},
   "source": [
    "### 3. Our goal will be to predict price. List variables that you think qualify as predictors of price in a SLR model. \n",
    "\n",
    "**For each of these variables you believe to be valid potential predictors in an SLR model, generate a plot showing the relationship between the independent variable and dependent variable.**"
   ]
  },
  {
   "cell_type": "code",
   "execution_count": 31,
   "metadata": {},
   "outputs": [
    {
     "data": {
      "text/html": [
       "<div>\n",
       "<style>\n",
       "    .dataframe thead tr:only-child th {\n",
       "        text-align: right;\n",
       "    }\n",
       "\n",
       "    .dataframe thead th {\n",
       "        text-align: left;\n",
       "    }\n",
       "\n",
       "    .dataframe tbody tr th {\n",
       "        vertical-align: top;\n",
       "    }\n",
       "</style>\n",
       "<table border=\"1\" class=\"dataframe\">\n",
       "  <thead>\n",
       "    <tr style=\"text-align: right;\">\n",
       "      <th></th>\n",
       "      <th>beds</th>\n",
       "      <th>baths</th>\n",
       "      <th>sq__ft</th>\n",
       "      <th>price</th>\n",
       "    </tr>\n",
       "  </thead>\n",
       "  <tbody>\n",
       "    <tr>\n",
       "      <th>beds</th>\n",
       "      <td>1.000000</td>\n",
       "      <td>0.839594</td>\n",
       "      <td>0.684261</td>\n",
       "      <td>0.342152</td>\n",
       "    </tr>\n",
       "    <tr>\n",
       "      <th>baths</th>\n",
       "      <td>0.839594</td>\n",
       "      <td>1.000000</td>\n",
       "      <td>0.665654</td>\n",
       "      <td>0.416225</td>\n",
       "    </tr>\n",
       "    <tr>\n",
       "      <th>sq__ft</th>\n",
       "      <td>0.684261</td>\n",
       "      <td>0.665654</td>\n",
       "      <td>1.000000</td>\n",
       "      <td>0.333861</td>\n",
       "    </tr>\n",
       "    <tr>\n",
       "      <th>price</th>\n",
       "      <td>0.342152</td>\n",
       "      <td>0.416225</td>\n",
       "      <td>0.333861</td>\n",
       "      <td>1.000000</td>\n",
       "    </tr>\n",
       "  </tbody>\n",
       "</table>\n",
       "</div>"
      ],
      "text/plain": [
       "            beds     baths    sq__ft     price\n",
       "beds    1.000000  0.839594  0.684261  0.342152\n",
       "baths   0.839594  1.000000  0.665654  0.416225\n",
       "sq__ft  0.684261  0.665654  1.000000  0.333861\n",
       "price   0.342152  0.416225  0.333861  1.000000"
      ]
     },
     "execution_count": 31,
     "metadata": {},
     "output_type": "execute_result"
    }
   ],
   "source": [
    "# A\n",
    "\n",
    "df_cleaned = df[['beds', 'baths', 'sq__ft', 'price']]\n",
    "df_cleaned.corr()"
   ]
  },
  {
   "cell_type": "code",
   "execution_count": 38,
   "metadata": {},
   "outputs": [
    {
     "data": {
      "text/plain": [
       "<matplotlib.axes._subplots.AxesSubplot at 0x1134fb310>"
      ]
     },
     "execution_count": 38,
     "metadata": {},
     "output_type": "execute_result"
    },
    {
     "data": {
      "image/png": "[encoded data removed]",
      "text/plain": [
       "<matplotlib.figure.Figure at 0x11353ff50>"
      ]
     },
     "metadata": {},
     "output_type": "display_data"
    }
   ],
   "source": [
    "df_cleaned[['price', 'sq__ft']].plot(x='price', y='sq__ft', kind='scatter')"
   ]
  },
  {
   "cell_type": "markdown",
   "metadata": {},
   "source": [
    "### 4. Which variable would be the best predictor of Y in a SLR model? Why?"
   ]
  },
  {
   "cell_type": "code",
   "execution_count": 39,
   "metadata": {
    "collapsed": true
   },
   "outputs": [],
   "source": [
    "# A:\n",
    "\n",
    "x = df['sq__ft']\n",
    "y = df['price']"
   ]
  },
  {
   "cell_type": "markdown",
   "metadata": {},
   "source": [
    "### 5. Build a function that will take in two lists `Y` and `X` and returns the intercept and slope coefficients that minimize SSE. \n",
    "\n",
    "`Y` is the target variable and `X` is the predictor variable.\n",
    "\n",
    "- **Test your function on price and the variable you determined was the best predictor in Problem 4.**\n",
    "- **Report the slope and intercept.**"
   ]
  },
  {
   "cell_type": "code",
   "execution_count": 40,
   "metadata": {},
   "outputs": [],
   "source": [
    "# A:\n",
    "\n",
    "from sklearn.linear_model import LinearRegression\n",
    "\n",
    "ln = LinearRegression()"
   ]
  },
  {
   "cell_type": "code",
   "execution_count": 41,
   "metadata": {},
   "outputs": [
    {
     "ename": "ValueError",
     "evalue": "Expected 2D array, got 1D array instead:\narray=[ 836 1167  796  852  797 1122 1104 1177  941 1146  909 1289  871 1020 1022\n 1134  844  795  588 1356 1118 1329 1240 1601  901 1088  963 1119 1380 1248\n 1039 1152 1380 1116 1039 1418 1082 1472 1146  760 1304 1207 1056 1043 1587\n 1120 1580 1955 1656 1477 1188 1590 1463 1714 1185 1406 1943 1172 1152 1851\n 1215 1130 1603 1479 1420 1280 1586 1362 2162 1266 1715 1820  936    0 1511\n 1590 1596 1341 2136 1616 1478 1287 1277 1448 2235 2093 1193 2163 1269    0\n  958 2508 1305 1591 1326 1843 1921 2790 1541 1018    0 1672 1380  975 2372\n 1446 1284 3009 3612 2056 1993 1857 1126 2213 2494 1843 1520 2800 2309 2367\n 3516    0 1914 1690 2725 2354    0 2185 1801 1961 3134 1915    0    0 2734\n 2110 3164 3599 2054 1830 1627 3440 2846 2359 2052 3433 3615    0 2687 2724\n 3440 3508 2462    0    0    0 2325    0  795 1099  840  800  746 1067 1316\n 1337  868  924  610    0 1220  722 1643  722 1080 1039 1051  967 1098 1050\n 1110  888 1120 1080  957  952 1211 1264 1080 1266  994 1202    0  722 1448\n 1188 1183 1320 1117 1364 1310 1006 1104  810 1123  904 1156 1321 1392 1439\n 1159 1671 1740 1265 1007 1716 1685 1829 1555 1120 1137 1174 1393    0    0\n 1289 1799    0 1953  723    0  948 1578 1317    0 1360    0 1522 1751 1465\n 1605 1475 1216 1315 1567 1776 2187 1291    0    0 1503 2491 1269    0 1176\n 1456 1498 1574 2085 2170 1595 1567    0 1253 1768    0 2030 1531    0 1653\n 2056 2494 1450 2169 1440 1527 1401 1411    0    0 1284 2307 1329 1910 1981\n    0    0    0 2205 1449 1258 2575  539 2208 1108 1595 2159 2295 1838 1900\n 1718 3389    0 3260 2016 2607 2724 3746    0 3192    0    0    0 1247 2581\n 2068    0 3992 3397 3881    0 1598 1929 3070    0    0    0    0 3984 2222\n 3838    0 2846 2484 1624  840  484  970  623  932  796  834  834  924  795\n 1250  984 1013 1012  795  918 1082  964 1404  625  888 1120 1331 1014 1448\n  966  779  836 1100 1174 1207 1995  804  958 1366  901  696 1080 1104  972\n 1390 1354  795  780 1587 1209 1139 1690 1245 1416 1300 1120 1590 1407 1516\n    0 1646 1676 1370 1370 1351 1152 1452  990 1162 1182 1112 1100 1280 1280\n 1039 1159 1917 1520 1204 1120 1436 1451 1638 1000 1152 1154 1353 1329 1356\n 1505 1009 1144  930 1766 1940 1776 1258 1872 1112 1856 1939  998 1758 2142\n  950 1739 1516  988 1555 1212 1871 1302  756 2026 1375 1250 1058 1187 1324\n 1936 2382 1427 1678 1798 2652 1816 3076 1844 1306 2447 1176 1182 1160 1424\n 1574 1830 1724 1255    0 2175 1904 1808 2711 1713 1457 2724    0 1468 2550\n 1928 1922 1343 1510  960 1559 1624 2992 2109 1524 1248 1876    0 1851    0\n 2218 1394 1410 3468 2346 2347 1659 2442    0 2155    0 1810 2789 1606    0\n 2166    0 1871 1800 1683    0    0 1596    0 1179    0 1639 3281 1697    0\n 2085    0 1744    0 1939    0 1788 1691 2002 4303 4246 2274    0 3056 2503\n    0    0 1905 1320    0    0 3037 3741 2660 3357 2896 2025 3788 3670    0\n    0    0    0    0    0    0    0    0    0    0    0    0    0    0    0\n    0    0    0    0    0    0    0    0    0    0    0    0    0    0    0\n    0    0    0    0    0    0    0    0    0    0    0    0    0    0    0\n    0    0    0 1166    0  838  904 1032  904 1080  990  900  861  906 1011\n 1089  832  800 1292  810 1064  911  846 1320 1410 1115 1169 1164 1341 1219\n 1127 1272 1253 1120 1118 1890 1260 1400 1264 1060 1132 1466 1092 1628  960\n 1075 1428 1358 2475 1410 1711 1483 1140 1549 1410 1240 1712 1580 1669 1029\n 1103 2161 1650 1320 1200 1170 1199 1695 1157 1410 1174 1593 1093 1770 1436\n 1124 1139 1638 1328 1273 1082 1578  796 1386 1452 1513    0 1578 1736    0\n 1473 1150 1127 1144  972 2306 1479 1040 1430 1800 1953 1120 1232    0 2329\n 1351    0 1376 1300 1566 1115 1032 1419 1261 1637 1776 1338    0 2254 1441\n 1991 2126 1094 1462 2258 1074 2111 1686 1915 2367 1962 1406 1789 1876 1235\n 2504    0 1676 1367 1899 1636 1828    0 1438 1451 1520 1506 2605 1196 1621\n 1811 1540    0    0    0    0    0 1543 2494 1650 2214 2280 1443 1582 1857\n 1735 2096 1720 2160 1382    0 1721 1328    0 1982 1144 1623 1457 2555 1577\n 2592 1401    0 1502 1327 1800 2169 2457    0 2004 2212 3134 1360    0 1276\n 2962 1888    0    0 1548    0 2109 2484 2258 2212 1616 2372 2606    0 2877\n 2960    0 2172 2100 1795    0 2295 2577    0 1727 1485 1655    0    0 2049\n    0 2875    0 2199    0 1304 2334 2278 1493    0    0    0 2787 2824 3261\n 2053 2379    0    0    0    0    0    0 3173    0 1348    0 1252 3229 3863\n    0    0 2356    0 3579    0    0    0 4400    0 5822 1512  611  876  933\n  864 1011 1158 1092  956 1139 1058 1040 1354 1051  682 1161 1004 1229 1249\n 1161 1010    0 1462 1269 1188 1570 1093  962 1089 1127 1309  970 1144 1000\n    0 1206 1285 1543  884 1019 1392  924 1217 1670 1302 1488 1373 1381 1265\n  881    0 1608 1344 1202 1104    0 1859 1232 1638 1177 1582  904 1340 1204\n 1477 1497  960    0 1428 1039 1529 1892 1887 1294 1638 1677 1073 1231 1175\n 1416    0 1358 1609 1968 1089 1296 1189  795 1371 1310 1262 1740 1517 1450\n 1416  888 1882 1302 1418    0 1319 1770 1627    0 1040  960    0 1456 1450\n 1358 1329 1715 1262 2280 1477 1216 1685 1362].\nReshape your data either using array.reshape(-1, 1) if your data has a single feature or array.reshape(1, -1) if it contains a single sample.",
     "output_type": "error",
     "traceback": [
      "\u001b[0;31m---------------------------------------------------------------------------\u001b[0m",
      "\u001b[0;31mValueError\u001b[0m                                Traceback (most recent call last)",
      "\u001b[0;32m<ipython-input-41-2b712b3b2249>\u001b[0m in \u001b[0;36m<module>\u001b[0;34m()\u001b[0m\n\u001b[0;32m----> 1\u001b[0;31m \u001b[0mln\u001b[0m\u001b[0;34m.\u001b[0m\u001b[0mfit\u001b[0m\u001b[0;34m(\u001b[0m\u001b[0mx\u001b[0m\u001b[0;34m,\u001b[0m\u001b[0my\u001b[0m\u001b[0;34m)\u001b[0m\u001b[0;34m\u001b[0m\u001b[0m\n\u001b[0m",
      "\u001b[0;32m/anaconda2/lib/python2.7/site-packages/sklearn/linear_model/base.pyc\u001b[0m in \u001b[0;36mfit\u001b[0;34m(self, X, y, sample_weight)\u001b[0m\n\u001b[1;32m    480\u001b[0m         \u001b[0mn_jobs_\u001b[0m \u001b[0;34m=\u001b[0m \u001b[0mself\u001b[0m\u001b[0;34m.\u001b[0m\u001b[0mn_jobs\u001b[0m\u001b[0;34m\u001b[0m\u001b[0m\n\u001b[1;32m    481\u001b[0m         X, y = check_X_y(X, y, accept_sparse=['csr', 'csc', 'coo'],\n\u001b[0;32m--> 482\u001b[0;31m                          y_numeric=True, multi_output=True)\n\u001b[0m\u001b[1;32m    483\u001b[0m \u001b[0;34m\u001b[0m\u001b[0m\n\u001b[1;32m    484\u001b[0m         \u001b[0;32mif\u001b[0m \u001b[0msample_weight\u001b[0m \u001b[0;32mis\u001b[0m \u001b[0;32mnot\u001b[0m \u001b[0mNone\u001b[0m \u001b[0;32mand\u001b[0m \u001b[0mnp\u001b[0m\u001b[0;34m.\u001b[0m\u001b[0matleast_1d\u001b[0m\u001b[0;34m(\u001b[0m\u001b[0msample_weight\u001b[0m\u001b[0;34m)\u001b[0m\u001b[0;34m.\u001b[0m\u001b[0mndim\u001b[0m \u001b[0;34m>\u001b[0m \u001b[0;36m1\u001b[0m\u001b[0;34m:\u001b[0m\u001b[0;34m\u001b[0m\u001b[0m\n",
      "\u001b[0;32m/anaconda2/lib/python2.7/site-packages/sklearn/utils/validation.pyc\u001b[0m in \u001b[0;36mcheck_X_y\u001b[0;34m(X, y, accept_sparse, dtype, order, copy, force_all_finite, ensure_2d, allow_nd, multi_output, ensure_min_samples, ensure_min_features, y_numeric, warn_on_dtype, estimator)\u001b[0m\n\u001b[1;32m    571\u001b[0m     X = check_array(X, accept_sparse, dtype, order, copy, force_all_finite,\n\u001b[1;32m    572\u001b[0m                     \u001b[0mensure_2d\u001b[0m\u001b[0;34m,\u001b[0m \u001b[0mallow_nd\u001b[0m\u001b[0;34m,\u001b[0m \u001b[0mensure_min_samples\u001b[0m\u001b[0;34m,\u001b[0m\u001b[0;34m\u001b[0m\u001b[0m\n\u001b[0;32m--> 573\u001b[0;31m                     ensure_min_features, warn_on_dtype, estimator)\n\u001b[0m\u001b[1;32m    574\u001b[0m     \u001b[0;32mif\u001b[0m \u001b[0mmulti_output\u001b[0m\u001b[0;34m:\u001b[0m\u001b[0;34m\u001b[0m\u001b[0m\n\u001b[1;32m    575\u001b[0m         y = check_array(y, 'csr', force_all_finite=True, ensure_2d=False,\n",
      "\u001b[0;32m/anaconda2/lib/python2.7/site-packages/sklearn/utils/validation.pyc\u001b[0m in \u001b[0;36mcheck_array\u001b[0;34m(array, accept_sparse, dtype, order, copy, force_all_finite, ensure_2d, allow_nd, ensure_min_samples, ensure_min_features, warn_on_dtype, estimator)\u001b[0m\n\u001b[1;32m    439\u001b[0m                     \u001b[0;34m\"Reshape your data either using array.reshape(-1, 1) if \"\u001b[0m\u001b[0;34m\u001b[0m\u001b[0m\n\u001b[1;32m    440\u001b[0m                     \u001b[0;34m\"your data has a single feature or array.reshape(1, -1) \"\u001b[0m\u001b[0;34m\u001b[0m\u001b[0m\n\u001b[0;32m--> 441\u001b[0;31m                     \"if it contains a single sample.\".format(array))\n\u001b[0m\u001b[1;32m    442\u001b[0m             \u001b[0marray\u001b[0m \u001b[0;34m=\u001b[0m \u001b[0mnp\u001b[0m\u001b[0;34m.\u001b[0m\u001b[0matleast_2d\u001b[0m\u001b[0;34m(\u001b[0m\u001b[0marray\u001b[0m\u001b[0;34m)\u001b[0m\u001b[0;34m\u001b[0m\u001b[0m\n\u001b[1;32m    443\u001b[0m             \u001b[0;31m# To ensure that array flags are maintained\u001b[0m\u001b[0;34m\u001b[0m\u001b[0;34m\u001b[0m\u001b[0m\n",
      "\u001b[0;31mValueError\u001b[0m: Expected 2D array, got 1D array instead:\narray=[ 836 1167  796  852  797 1122 1104 1177  941 1146  909 1289  871 1020 1022\n 1134  844  795  588 1356 1118 1329 1240 1601  901 1088  963 1119 1380 1248\n 1039 1152 1380 1116 1039 1418 1082 1472 1146  760 1304 1207 1056 1043 1587\n 1120 1580 1955 1656 1477 1188 1590 1463 1714 1185 1406 1943 1172 1152 1851\n 1215 1130 1603 1479 1420 1280 1586 1362 2162 1266 1715 1820  936    0 1511\n 1590 1596 1341 2136 1616 1478 1287 1277 1448 2235 2093 1193 2163 1269    0\n  958 2508 1305 1591 1326 1843 1921 2790 1541 1018    0 1672 1380  975 2372\n 1446 1284 3009 3612 2056 1993 1857 1126 2213 2494 1843 1520 2800 2309 2367\n 3516    0 1914 1690 2725 2354    0 2185 1801 1961 3134 1915    0    0 2734\n 2110 3164 3599 2054 1830 1627 3440 2846 2359 2052 3433 3615    0 2687 2724\n 3440 3508 2462    0    0    0 2325    0  795 1099  840  800  746 1067 1316\n 1337  868  924  610    0 1220  722 1643  722 1080 1039 1051  967 1098 1050\n 1110  888 1120 1080  957  952 1211 1264 1080 1266  994 1202    0  722 1448\n 1188 1183 1320 1117 1364 1310 1006 1104  810 1123  904 1156 1321 1392 1439\n 1159 1671 1740 1265 1007 1716 1685 1829 1555 1120 1137 1174 1393    0    0\n 1289 1799    0 1953  723    0  948 1578 1317    0 1360    0 1522 1751 1465\n 1605 1475 1216 1315 1567 1776 2187 1291    0    0 1503 2491 1269    0 1176\n 1456 1498 1574 2085 2170 1595 1567    0 1253 1768    0 2030 1531    0 1653\n 2056 2494 1450 2169 1440 1527 1401 1411    0    0 1284 2307 1329 1910 1981\n    0    0    0 2205 1449 1258 2575  539 2208 1108 1595 2159 2295 1838 1900\n 1718 3389    0 3260 2016 2607 2724 3746    0 3192    0    0    0 1247 2581\n 2068    0 3992 3397 3881    0 1598 1929 3070    0    0    0    0 3984 2222\n 3838    0 2846 2484 1624  840  484  970  623  932  796  834  834  924  795\n 1250  984 1013 1012  795  918 1082  964 1404  625  888 1120 1331 1014 1448\n  966  779  836 1100 1174 1207 1995  804  958 1366  901  696 1080 1104  972\n 1390 1354  795  780 1587 1209 1139 1690 1245 1416 1300 1120 1590 1407 1516\n    0 1646 1676 1370 1370 1351 1152 1452  990 1162 1182 1112 1100 1280 1280\n 1039 1159 1917 1520 1204 1120 1436 1451 1638 1000 1152 1154 1353 1329 1356\n 1505 1009 1144  930 1766 1940 1776 1258 1872 1112 1856 1939  998 1758 2142\n  950 1739 1516  988 1555 1212 1871 1302  756 2026 1375 1250 1058 1187 1324\n 1936 2382 1427 1678 1798 2652 1816 3076 1844 1306 2447 1176 1182 1160 1424\n 1574 1830 1724 1255    0 2175 1904 1808 2711 1713 1457 2724    0 1468 2550\n 1928 1922 1343 1510  960 1559 1624 2992 2109 1524 1248 1876    0 1851    0\n 2218 1394 1410 3468 2346 2347 1659 2442    0 2155    0 1810 2789 1606    0\n 2166    0 1871 1800 1683    0    0 1596    0 1179    0 1639 3281 1697    0\n 2085    0 1744    0 1939    0 1788 1691 2002 4303 4246 2274    0 3056 2503\n    0    0 1905 1320    0    0 3037 3741 2660 3357 2896 2025 3788 3670    0\n    0    0    0    0    0    0    0    0    0    0    0    0    0    0    0\n    0    0    0    0    0    0    0    0    0    0    0    0    0    0    0\n    0    0    0    0    0    0    0    0    0    0    0    0    0    0    0\n    0    0    0 1166    0  838  904 1032  904 1080  990  900  861  906 1011\n 1089  832  800 1292  810 1064  911  846 1320 1410 1115 1169 1164 1341 1219\n 1127 1272 1253 1120 1118 1890 1260 1400 1264 1060 1132 1466 1092 1628  960\n 1075 1428 1358 2475 1410 1711 1483 1140 1549 1410 1240 1712 1580 1669 1029\n 1103 2161 1650 1320 1200 1170 1199 1695 1157 1410 1174 1593 1093 1770 1436\n 1124 1139 1638 1328 1273 1082 1578  796 1386 1452 1513    0 1578 1736    0\n 1473 1150 1127 1144  972 2306 1479 1040 1430 1800 1953 1120 1232    0 2329\n 1351    0 1376 1300 1566 1115 1032 1419 1261 1637 1776 1338    0 2254 1441\n 1991 2126 1094 1462 2258 1074 2111 1686 1915 2367 1962 1406 1789 1876 1235\n 2504    0 1676 1367 1899 1636 1828    0 1438 1451 1520 1506 2605 1196 1621\n 1811 1540    0    0    0    0    0 1543 2494 1650 2214 2280 1443 1582 1857\n 1735 2096 1720 2160 1382    0 1721 1328    0 1982 1144 1623 1457 2555 1577\n 2592 1401    0 1502 1327 1800 2169 2457    0 2004 2212 3134 1360    0 1276\n 2962 1888    0    0 1548    0 2109 2484 2258 2212 1616 2372 2606    0 2877\n 2960    0 2172 2100 1795    0 2295 2577    0 1727 1485 1655    0    0 2049\n    0 2875    0 2199    0 1304 2334 2278 1493    0    0    0 2787 2824 3261\n 2053 2379    0    0    0    0    0    0 3173    0 1348    0 1252 3229 3863\n    0    0 2356    0 3579    0    0    0 4400    0 5822 1512  611  876  933\n  864 1011 1158 1092  956 1139 1058 1040 1354 1051  682 1161 1004 1229 1249\n 1161 1010    0 1462 1269 1188 1570 1093  962 1089 1127 1309  970 1144 1000\n    0 1206 1285 1543  884 1019 1392  924 1217 1670 1302 1488 1373 1381 1265\n  881    0 1608 1344 1202 1104    0 1859 1232 1638 1177 1582  904 1340 1204\n 1477 1497  960    0 1428 1039 1529 1892 1887 1294 1638 1677 1073 1231 1175\n 1416    0 1358 1609 1968 1089 1296 1189  795 1371 1310 1262 1740 1517 1450\n 1416  888 1882 1302 1418    0 1319 1770 1627    0 1040  960    0 1456 1450\n 1358 1329 1715 1262 2280 1477 1216 1685 1362].\nReshape your data either using array.reshape(-1, 1) if your data has a single feature or array.reshape(1, -1) if it contains a single sample."
     ]
    }
   ],
   "source": [
    "ln.fit(x,y)"
   ]
  },
  {
   "cell_type": "markdown",
   "metadata": {},
   "source": [
    "### 6. Interpret the intercept. Interpret the slope."
   ]
  },
  {
   "cell_type": "code",
   "execution_count": 7,
   "metadata": {
    "collapsed": true
   },
   "outputs": [],
   "source": [
    "# A:"
   ]
  },
  {
   "cell_type": "markdown",
   "metadata": {},
   "source": [
    "### 7. Give an example of how this model could be used for prediction and how this model could be used for inference. \n",
    "\n",
    "**Be sure to make it clear which example is associated with prediction and which is associated with inference.**"
   ]
  },
  {
   "cell_type": "code",
   "execution_count": 8,
   "metadata": {
    "collapsed": true
   },
   "outputs": [],
   "source": [
    "# A:"
   ]
  },
  {
   "cell_type": "markdown",
   "metadata": {},
   "source": [
    "### 8: [Bonus] Using the model you came up with in Problem 5, calculate and plot the residuals."
   ]
  },
  {
   "cell_type": "code",
   "execution_count": 9,
   "metadata": {
    "collapsed": true
   },
   "outputs": [],
   "source": [
    "# A:"
   ]
  }
 ],
 "metadata": {
  "anaconda-cloud": {},
  "kernelspec": {
   "display_name": "Python 2",
   "language": "python",
   "name": "python2"
  },
  "language_info": {
   "codemirror_mode": {
    "name": "ipython",
    "version": 2
   },
   "file_extension": ".py",
   "mimetype": "text/x-python",
   "name": "python",
   "nbconvert_exporter": "python",
   "pygments_lexer": "ipython2",
   "version": "2.7.14"
  }
 },
 "nbformat": 4,
 "nbformat_minor": 1
}
