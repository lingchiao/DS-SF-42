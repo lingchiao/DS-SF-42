{
 "cells": [
  {
   "cell_type": "code",
   "execution_count": 400,
   "metadata": {},
   "outputs": [],
   "source": [
    "import pandas as pd\n",
    "import numpy as np\n",
    "import seaborn as sns\n",
    "import matplotlib.pyplot as plt\n",
    "from sklearn import linear_model, cross_validation\n",
    "from sklearn.preprocessing import StandardScaler\n",
    "from sklearn.neighbors import KNeighborsClassifier\n",
    "from sklearn.cross_validation import train_test_split, cross_val_score\n",
    "from sklearn.tree import DecisionTreeClassifier\n",
    "from sklearn.cross_validation import cross_val_score, train_test_split\n",
    "from sklearn.model_selection import validation_curve, learning_curve\n",
    "from sklearn.ensemble import BaggingRegressor, RandomForestRegressor, RandomForestClassifier, AdaBoostClassifier\n",
    "from sklearn.metrics import confusion_matrix, recall_score, precision_score, roc_auc_score, roc_curve, accuracy_score\n",
    "from sklearn.grid_search import GridSearchCV, RandomizedSearchCV\n",
    "from sklearn.preprocessing import binarize\n",
    "\n",
    "\n",
    "%matplotlib inline\n",
    "pd.set_option('max.columns', 100)"
   ]
  },
  {
   "cell_type": "code",
   "execution_count": 401,
   "metadata": {
    "collapsed": true
   },
   "outputs": [],
   "source": [
    "df = pd.read_csv('/Users/ling/Desktop/ds_class/DS-SF-42/final_project/kag_risk_factors_cervical_cancer.csv')"
   ]
  },
  {
   "cell_type": "markdown",
   "metadata": {},
   "source": [
    "## 1.Load in dataset and clean up data"
   ]
  },
  {
   "cell_type": "code",
   "execution_count": 402,
   "metadata": {},
   "outputs": [
    {
     "name": "stdout",
     "output_type": "stream",
     "text": [
      "<class 'pandas.core.frame.DataFrame'>\n",
      "RangeIndex: 858 entries, 0 to 857\n",
      "Data columns (total 36 columns):\n",
      "Age                                   858 non-null int64\n",
      "Number of sexual partners             858 non-null object\n",
      "First sexual intercourse              858 non-null object\n",
      "Num of pregnancies                    858 non-null object\n",
      "Smokes                                858 non-null object\n",
      "Smokes (years)                        858 non-null object\n",
      "Smokes (packs/year)                   858 non-null object\n",
      "Hormonal Contraceptives               858 non-null object\n",
      "Hormonal Contraceptives (years)       858 non-null object\n",
      "IUD                                   858 non-null object\n",
      "IUD (years)                           858 non-null object\n",
      "STDs                                  858 non-null object\n",
      "STDs (number)                         858 non-null object\n",
      "STDs:condylomatosis                   858 non-null object\n",
      "STDs:cervical condylomatosis          858 non-null object\n",
      "STDs:vaginal condylomatosis           858 non-null object\n",
      "STDs:vulvo-perineal condylomatosis    858 non-null object\n",
      "STDs:syphilis                         858 non-null object\n",
      "STDs:pelvic inflammatory disease      858 non-null object\n",
      "STDs:genital herpes                   858 non-null object\n",
      "STDs:molluscum contagiosum            858 non-null object\n",
      "STDs:AIDS                             858 non-null object\n",
      "STDs:HIV                              858 non-null object\n",
      "STDs:Hepatitis B                      858 non-null object\n",
      "STDs:HPV                              858 non-null object\n",
      "STDs: Number of diagnosis             858 non-null int64\n",
      "STDs: Time since first diagnosis      858 non-null object\n",
      "STDs: Time since last diagnosis       858 non-null object\n",
      "Dx:Cancer                             858 non-null int64\n",
      "Dx:CIN                                858 non-null int64\n",
      "Dx:HPV                                858 non-null int64\n",
      "Dx                                    858 non-null int64\n",
      "Hinselmann                            858 non-null int64\n",
      "Schiller                              858 non-null int64\n",
      "Citology                              858 non-null int64\n",
      "Biopsy                                858 non-null int64\n",
      "dtypes: int64(10), object(26)\n",
      "memory usage: 241.4+ KB\n",
      "<class 'pandas.core.frame.DataFrame'>\n",
      "RangeIndex: 858 entries, 0 to 857\n",
      "Data columns (total 36 columns):\n",
      "age                               858 non-null int64\n",
      "sexual_partners                   832 non-null float64\n",
      "first_sexual_intercourse          851 non-null float64\n",
      "num_pregnancies                   802 non-null float64\n",
      "smokes                            845 non-null float64\n",
      "smoke_years                       845 non-null float64\n",
      "smoke_packs_per_year              845 non-null float64\n",
      "hormonal_contraceptives           750 non-null float64\n",
      "hormonal_contraceptive_years      750 non-null float64\n",
      "iud                               741 non-null float64\n",
      "iud_years                         741 non-null float64\n",
      "stds                              753 non-null float64\n",
      "stds_number                       753 non-null float64\n",
      "std_condylomatosis                753 non-null float64\n",
      "std_cervical_condylomatosis       753 non-null float64\n",
      "std_vaginal_condylomatosis        753 non-null float64\n",
      "std_vulvo_condylomatosis          753 non-null float64\n",
      "std_syphilis                      753 non-null float64\n",
      "std_pelvic_inflam                 753 non-null float64\n",
      "std_genital_herpes                753 non-null float64\n",
      "std_molluscum_contagiosum         753 non-null float64\n",
      "std_aids                          753 non-null float64\n",
      "std_hiv                           753 non-null float64\n",
      "std_hepatitisb                    753 non-null float64\n",
      "std_hpv                           753 non-null float64\n",
      "std_num_diagnosis                 858 non-null int64\n",
      "std_time_since_first_diagnosis    71 non-null float64\n",
      "std_time_since_last_diagnosis     71 non-null float64\n",
      "dx_cancer                         858 non-null int64\n",
      "dx_cin                            858 non-null int64\n",
      "dx_hpv                            858 non-null int64\n",
      "dx                                858 non-null int64\n",
      "hinselmann                        858 non-null int64\n",
      "schiller                          858 non-null int64\n",
      "citology                          858 non-null int64\n",
      "biopsy                            858 non-null int64\n",
      "dtypes: float64(26), int64(10)\n",
      "memory usage: 241.4 KB\n",
      "(858, 36)\n"
     ]
    },
    {
     "name": "stderr",
     "output_type": "stream",
     "text": [
      "/anaconda2/lib/python2.7/site-packages/ipykernel_launcher.py:20: FutureWarning: convert_objects is deprecated.  Use the data-type specific converters pd.to_datetime, pd.to_timedelta and pd.to_numeric.\n"
     ]
    }
   ],
   "source": [
    "df.shape\n",
    "df.info()\n",
    "df.head()\n",
    "df.to_csv('/Users/ling/desktop/project_data_raw.csv')\n",
    "\n",
    "#rename columns\n",
    "\n",
    "df.columns = [['age', 'sexual_partners', 'first_sexual_intercourse', 'num_pregnancies', 'smokes', 'smoke_years',\n",
    "              'smoke_packs_per_year', 'hormonal_contraceptives', 'hormonal_contraceptive_years', 'iud', 'iud_years',\n",
    "               'stds', 'stds_number', 'std_condylomatosis', 'std_cervical_condylomatosis', \n",
    "               'std_vaginal_condylomatosis', 'std_vulvo_condylomatosis', 'std_syphilis', 'std_pelvic_inflam', \n",
    "               'std_genital_herpes', 'std_molluscum_contagiosum', 'std_aids', 'std_hiv', 'std_hepatitisb', 'std_hpv',\n",
    "               'std_num_diagnosis', 'std_time_since_first_diagnosis','std_time_since_last_diagnosis', 'dx_cancer', \n",
    "               'dx_cin', 'dx_hpv', 'dx', 'hinselmann', 'schiller', 'citology', 'biopsy']]\n",
    "\n",
    "#rename ? to nan, convert objects to float\n",
    "\n",
    "\n",
    "df = df.replace('?', np.nan)\n",
    "df = df.convert_objects(convert_numeric=True)\n",
    "df.info()\n",
    "print df.shape"
   ]
  },
  {
   "cell_type": "code",
   "execution_count": 403,
   "metadata": {},
   "outputs": [
    {
     "data": {
      "text/plain": [
       "age                                 0\n",
       "sexual_partners                    26\n",
       "first_sexual_intercourse            7\n",
       "num_pregnancies                    56\n",
       "smokes                             13\n",
       "smoke_years                        13\n",
       "smoke_packs_per_year               13\n",
       "hormonal_contraceptives           108\n",
       "hormonal_contraceptive_years      108\n",
       "iud                               117\n",
       "iud_years                         117\n",
       "stds                              105\n",
       "stds_number                       105\n",
       "std_condylomatosis                105\n",
       "std_cervical_condylomatosis       105\n",
       "std_vaginal_condylomatosis        105\n",
       "std_vulvo_condylomatosis          105\n",
       "std_syphilis                      105\n",
       "std_pelvic_inflam                 105\n",
       "std_genital_herpes                105\n",
       "std_molluscum_contagiosum         105\n",
       "std_aids                          105\n",
       "std_hiv                           105\n",
       "std_hepatitisb                    105\n",
       "std_hpv                           105\n",
       "std_num_diagnosis                   0\n",
       "std_time_since_first_diagnosis    787\n",
       "std_time_since_last_diagnosis     787\n",
       "dx_cancer                           0\n",
       "dx_cin                              0\n",
       "dx_hpv                              0\n",
       "dx                                  0\n",
       "hinselmann                          0\n",
       "schiller                            0\n",
       "citology                            0\n",
       "biopsy                              0\n",
       "dtype: int64"
      ]
     },
     "execution_count": 403,
     "metadata": {},
     "output_type": "execute_result"
    }
   ],
   "source": [
    "df.isnull().sum()"
   ]
  },
  {
   "cell_type": "code",
   "execution_count": 404,
   "metadata": {},
   "outputs": [
    {
     "data": {
      "text/plain": [
       "age                               23012.000000\n",
       "sexual_partners                    2103.000000\n",
       "first_sexual_intercourse          14463.000000\n",
       "num_pregnancies                    1825.000000\n",
       "smokes                              123.000000\n",
       "smoke_years                        1030.664594\n",
       "smoke_packs_per_year                382.906638\n",
       "hormonal_contraceptives             481.000000\n",
       "hormonal_contraceptive_years       1692.314401\n",
       "iud                                  83.000000\n",
       "iud_years                           381.470000\n",
       "stds                                 79.000000\n",
       "stds_number                         133.000000\n",
       "std_condylomatosis                   44.000000\n",
       "std_cervical_condylomatosis           0.000000\n",
       "std_vaginal_condylomatosis            4.000000\n",
       "std_vulvo_condylomatosis             43.000000\n",
       "std_syphilis                         18.000000\n",
       "std_pelvic_inflam                     1.000000\n",
       "std_genital_herpes                    1.000000\n",
       "std_molluscum_contagiosum             1.000000\n",
       "std_aids                              0.000000\n",
       "std_hiv                              18.000000\n",
       "std_hepatitisb                        1.000000\n",
       "std_hpv                               2.000000\n",
       "std_num_diagnosis                    75.000000\n",
       "std_time_since_first_diagnosis      436.000000\n",
       "std_time_since_last_diagnosis       413.000000\n",
       "dx_cancer                            18.000000\n",
       "dx_cin                                9.000000\n",
       "dx_hpv                               18.000000\n",
       "dx                                   24.000000\n",
       "hinselmann                           35.000000\n",
       "schiller                             74.000000\n",
       "citology                             44.000000\n",
       "biopsy                               55.000000\n",
       "dtype: float64"
      ]
     },
     "execution_count": 404,
     "metadata": {},
     "output_type": "execute_result"
    }
   ],
   "source": [
    "#do all columns have values\n",
    "df.sum(axis=0)"
   ]
  },
  {
   "cell_type": "code",
   "execution_count": 405,
   "metadata": {},
   "outputs": [
    {
     "data": {
      "text/plain": [
       "858"
      ]
     },
     "execution_count": 405,
     "metadata": {},
     "output_type": "execute_result"
    }
   ],
   "source": [
    "#count nans in each column\n",
    "df.isnull().sum()\n",
    "\n",
    "#drop column with a lot of nans, columns with no values at all \n",
    "df = df.drop(['std_time_since_first_diagnosis', 'std_time_since_last_diagnosis', 'std_aids', \n",
    "              'std_cervical_condylomatosis'], axis=1)\n",
    "\n",
    "df.isnull().sum()\n",
    "len(df)"
   ]
  },
  {
   "cell_type": "code",
   "execution_count": 406,
   "metadata": {
    "scrolled": false
   },
   "outputs": [
    {
     "name": "stdout",
     "output_type": "stream",
     "text": [
      "[(0, 668), (1, 723), (2, 728), (3, 742), (4, 751), (5, 752), (6, 752), (7, 753), (8, 753), (9, 753), (10, 753), (11, 753), (12, 757), (13, 757), (14, 760), (15, 763), (16, 838), (17, 853), (18, 855), (19, 858)]\n"
     ]
    },
    {
     "data": {
      "text/html": [
       "<div>\n",
       "<style>\n",
       "    .dataframe thead tr:only-child th {\n",
       "        text-align: right;\n",
       "    }\n",
       "\n",
       "    .dataframe thead th {\n",
       "        text-align: left;\n",
       "    }\n",
       "\n",
       "    .dataframe tbody tr th {\n",
       "        vertical-align: top;\n",
       "    }\n",
       "</style>\n",
       "<table border=\"1\" class=\"dataframe\">\n",
       "  <thead>\n",
       "    <tr style=\"text-align: right;\">\n",
       "      <th></th>\n",
       "      <th>age</th>\n",
       "      <th>sexual_partners</th>\n",
       "      <th>first_sexual_intercourse</th>\n",
       "      <th>num_pregnancies</th>\n",
       "      <th>smokes</th>\n",
       "      <th>smoke_years</th>\n",
       "      <th>smoke_packs_per_year</th>\n",
       "      <th>hormonal_contraceptives</th>\n",
       "      <th>hormonal_contraceptive_years</th>\n",
       "      <th>iud</th>\n",
       "      <th>iud_years</th>\n",
       "      <th>stds</th>\n",
       "      <th>stds_number</th>\n",
       "      <th>std_condylomatosis</th>\n",
       "      <th>std_vaginal_condylomatosis</th>\n",
       "      <th>std_vulvo_condylomatosis</th>\n",
       "      <th>std_syphilis</th>\n",
       "      <th>std_pelvic_inflam</th>\n",
       "      <th>std_genital_herpes</th>\n",
       "      <th>std_molluscum_contagiosum</th>\n",
       "      <th>std_hiv</th>\n",
       "      <th>std_hepatitisb</th>\n",
       "      <th>std_hpv</th>\n",
       "      <th>std_num_diagnosis</th>\n",
       "      <th>dx_cancer</th>\n",
       "      <th>dx_cin</th>\n",
       "      <th>dx_hpv</th>\n",
       "      <th>dx</th>\n",
       "      <th>hinselmann</th>\n",
       "      <th>schiller</th>\n",
       "      <th>citology</th>\n",
       "      <th>biopsy</th>\n",
       "    </tr>\n",
       "  </thead>\n",
       "  <tbody>\n",
       "    <tr>\n",
       "      <th>0</th>\n",
       "      <td>18</td>\n",
       "      <td>4.0</td>\n",
       "      <td>15.0</td>\n",
       "      <td>1.0</td>\n",
       "      <td>0.0</td>\n",
       "      <td>0.0</td>\n",
       "      <td>0.0</td>\n",
       "      <td>0.0</td>\n",
       "      <td>0.0</td>\n",
       "      <td>0.0</td>\n",
       "      <td>0.0</td>\n",
       "      <td>0.0</td>\n",
       "      <td>0.0</td>\n",
       "      <td>0.0</td>\n",
       "      <td>0.0</td>\n",
       "      <td>0.0</td>\n",
       "      <td>0.0</td>\n",
       "      <td>0.0</td>\n",
       "      <td>0.0</td>\n",
       "      <td>0.0</td>\n",
       "      <td>0.0</td>\n",
       "      <td>0.0</td>\n",
       "      <td>0.0</td>\n",
       "      <td>0</td>\n",
       "      <td>0</td>\n",
       "      <td>0</td>\n",
       "      <td>0</td>\n",
       "      <td>0</td>\n",
       "      <td>0</td>\n",
       "      <td>0</td>\n",
       "      <td>0</td>\n",
       "      <td>0</td>\n",
       "    </tr>\n",
       "    <tr>\n",
       "      <th>1</th>\n",
       "      <td>15</td>\n",
       "      <td>1.0</td>\n",
       "      <td>14.0</td>\n",
       "      <td>1.0</td>\n",
       "      <td>0.0</td>\n",
       "      <td>0.0</td>\n",
       "      <td>0.0</td>\n",
       "      <td>0.0</td>\n",
       "      <td>0.0</td>\n",
       "      <td>0.0</td>\n",
       "      <td>0.0</td>\n",
       "      <td>0.0</td>\n",
       "      <td>0.0</td>\n",
       "      <td>0.0</td>\n",
       "      <td>0.0</td>\n",
       "      <td>0.0</td>\n",
       "      <td>0.0</td>\n",
       "      <td>0.0</td>\n",
       "      <td>0.0</td>\n",
       "      <td>0.0</td>\n",
       "      <td>0.0</td>\n",
       "      <td>0.0</td>\n",
       "      <td>0.0</td>\n",
       "      <td>0</td>\n",
       "      <td>0</td>\n",
       "      <td>0</td>\n",
       "      <td>0</td>\n",
       "      <td>0</td>\n",
       "      <td>0</td>\n",
       "      <td>0</td>\n",
       "      <td>0</td>\n",
       "      <td>0</td>\n",
       "    </tr>\n",
       "    <tr>\n",
       "      <th>2</th>\n",
       "      <td>34</td>\n",
       "      <td>1.0</td>\n",
       "      <td>NaN</td>\n",
       "      <td>1.0</td>\n",
       "      <td>0.0</td>\n",
       "      <td>0.0</td>\n",
       "      <td>0.0</td>\n",
       "      <td>0.0</td>\n",
       "      <td>0.0</td>\n",
       "      <td>0.0</td>\n",
       "      <td>0.0</td>\n",
       "      <td>0.0</td>\n",
       "      <td>0.0</td>\n",
       "      <td>0.0</td>\n",
       "      <td>0.0</td>\n",
       "      <td>0.0</td>\n",
       "      <td>0.0</td>\n",
       "      <td>0.0</td>\n",
       "      <td>0.0</td>\n",
       "      <td>0.0</td>\n",
       "      <td>0.0</td>\n",
       "      <td>0.0</td>\n",
       "      <td>0.0</td>\n",
       "      <td>0</td>\n",
       "      <td>0</td>\n",
       "      <td>0</td>\n",
       "      <td>0</td>\n",
       "      <td>0</td>\n",
       "      <td>0</td>\n",
       "      <td>0</td>\n",
       "      <td>0</td>\n",
       "      <td>0</td>\n",
       "    </tr>\n",
       "    <tr>\n",
       "      <th>3</th>\n",
       "      <td>52</td>\n",
       "      <td>5.0</td>\n",
       "      <td>16.0</td>\n",
       "      <td>4.0</td>\n",
       "      <td>1.0</td>\n",
       "      <td>37.0</td>\n",
       "      <td>37.0</td>\n",
       "      <td>1.0</td>\n",
       "      <td>3.0</td>\n",
       "      <td>0.0</td>\n",
       "      <td>0.0</td>\n",
       "      <td>0.0</td>\n",
       "      <td>0.0</td>\n",
       "      <td>0.0</td>\n",
       "      <td>0.0</td>\n",
       "      <td>0.0</td>\n",
       "      <td>0.0</td>\n",
       "      <td>0.0</td>\n",
       "      <td>0.0</td>\n",
       "      <td>0.0</td>\n",
       "      <td>0.0</td>\n",
       "      <td>0.0</td>\n",
       "      <td>0.0</td>\n",
       "      <td>0</td>\n",
       "      <td>1</td>\n",
       "      <td>0</td>\n",
       "      <td>1</td>\n",
       "      <td>0</td>\n",
       "      <td>0</td>\n",
       "      <td>0</td>\n",
       "      <td>0</td>\n",
       "      <td>0</td>\n",
       "    </tr>\n",
       "    <tr>\n",
       "      <th>4</th>\n",
       "      <td>46</td>\n",
       "      <td>3.0</td>\n",
       "      <td>21.0</td>\n",
       "      <td>4.0</td>\n",
       "      <td>0.0</td>\n",
       "      <td>0.0</td>\n",
       "      <td>0.0</td>\n",
       "      <td>1.0</td>\n",
       "      <td>15.0</td>\n",
       "      <td>0.0</td>\n",
       "      <td>0.0</td>\n",
       "      <td>0.0</td>\n",
       "      <td>0.0</td>\n",
       "      <td>0.0</td>\n",
       "      <td>0.0</td>\n",
       "      <td>0.0</td>\n",
       "      <td>0.0</td>\n",
       "      <td>0.0</td>\n",
       "      <td>0.0</td>\n",
       "      <td>0.0</td>\n",
       "      <td>0.0</td>\n",
       "      <td>0.0</td>\n",
       "      <td>0.0</td>\n",
       "      <td>0</td>\n",
       "      <td>0</td>\n",
       "      <td>0</td>\n",
       "      <td>0</td>\n",
       "      <td>0</td>\n",
       "      <td>0</td>\n",
       "      <td>0</td>\n",
       "      <td>0</td>\n",
       "      <td>0</td>\n",
       "    </tr>\n",
       "  </tbody>\n",
       "</table>\n",
       "</div>"
      ],
      "text/plain": [
       "   age  sexual_partners  first_sexual_intercourse  num_pregnancies  smokes  \\\n",
       "0   18              4.0                      15.0              1.0     0.0   \n",
       "1   15              1.0                      14.0              1.0     0.0   \n",
       "2   34              1.0                       NaN              1.0     0.0   \n",
       "3   52              5.0                      16.0              4.0     1.0   \n",
       "4   46              3.0                      21.0              4.0     0.0   \n",
       "\n",
       "   smoke_years  smoke_packs_per_year  hormonal_contraceptives  \\\n",
       "0          0.0                   0.0                      0.0   \n",
       "1          0.0                   0.0                      0.0   \n",
       "2          0.0                   0.0                      0.0   \n",
       "3         37.0                  37.0                      1.0   \n",
       "4          0.0                   0.0                      1.0   \n",
       "\n",
       "   hormonal_contraceptive_years  iud  iud_years  stds  stds_number  \\\n",
       "0                           0.0  0.0        0.0   0.0          0.0   \n",
       "1                           0.0  0.0        0.0   0.0          0.0   \n",
       "2                           0.0  0.0        0.0   0.0          0.0   \n",
       "3                           3.0  0.0        0.0   0.0          0.0   \n",
       "4                          15.0  0.0        0.0   0.0          0.0   \n",
       "\n",
       "   std_condylomatosis  std_vaginal_condylomatosis  std_vulvo_condylomatosis  \\\n",
       "0                 0.0                         0.0                       0.0   \n",
       "1                 0.0                         0.0                       0.0   \n",
       "2                 0.0                         0.0                       0.0   \n",
       "3                 0.0                         0.0                       0.0   \n",
       "4                 0.0                         0.0                       0.0   \n",
       "\n",
       "   std_syphilis  std_pelvic_inflam  std_genital_herpes  \\\n",
       "0           0.0                0.0                 0.0   \n",
       "1           0.0                0.0                 0.0   \n",
       "2           0.0                0.0                 0.0   \n",
       "3           0.0                0.0                 0.0   \n",
       "4           0.0                0.0                 0.0   \n",
       "\n",
       "   std_molluscum_contagiosum  std_hiv  std_hepatitisb  std_hpv  \\\n",
       "0                        0.0      0.0             0.0      0.0   \n",
       "1                        0.0      0.0             0.0      0.0   \n",
       "2                        0.0      0.0             0.0      0.0   \n",
       "3                        0.0      0.0             0.0      0.0   \n",
       "4                        0.0      0.0             0.0      0.0   \n",
       "\n",
       "   std_num_diagnosis  dx_cancer  dx_cin  dx_hpv  dx  hinselmann  schiller  \\\n",
       "0                  0          0       0       0   0           0         0   \n",
       "1                  0          0       0       0   0           0         0   \n",
       "2                  0          0       0       0   0           0         0   \n",
       "3                  0          1       0       1   0           0         0   \n",
       "4                  0          0       0       0   0           0         0   \n",
       "\n",
       "   citology  biopsy  \n",
       "0         0       0  \n",
       "1         0       0  \n",
       "2         0       0  \n",
       "3         0       0  \n",
       "4         0       0  "
      ]
     },
     "execution_count": 406,
     "metadata": {},
     "output_type": "execute_result"
    },
    {
     "data": {
      "image/png": "[encoded data removed]",
      "text/plain": [
       "<matplotlib.figure.Figure at 0x1a0e5b9610>"
      ]
     },
     "metadata": {},
     "output_type": "display_data"
    }
   ],
   "source": [
    "#drop rows with a lot of missing values\n",
    "#decide to drop rows missing more than 3 values\n",
    "count = []\n",
    "\n",
    "missing_values = range(0,20)\n",
    "\n",
    "for number in missing_values:\n",
    "    count.append(858-len(df[df.isnull().sum(axis=1) > number]))\n",
    "\n",
    "print zip(missing_values,count)\n",
    "plt.plot(missing_values,count)\n",
    "\n",
    "df = df[df.isnull().sum(axis=1) <= 3]\n",
    "df.head()"
   ]
  },
  {
   "cell_type": "code",
   "execution_count": 407,
   "metadata": {},
   "outputs": [
    {
     "data": {
      "text/plain": [
       "age                              0\n",
       "sexual_partners                 14\n",
       "first_sexual_intercourse         6\n",
       "num_pregnancies                 47\n",
       "smokes                           8\n",
       "smoke_years                      8\n",
       "smoke_packs_per_year             8\n",
       "hormonal_contraceptives          2\n",
       "hormonal_contraceptive_years     2\n",
       "iud                              6\n",
       "iud_years                        6\n",
       "std_condylomatosis               0\n",
       "std_vaginal_condylomatosis       0\n",
       "std_vulvo_condylomatosis         0\n",
       "std_syphilis                     0\n",
       "std_pelvic_inflam                0\n",
       "std_genital_herpes               0\n",
       "std_molluscum_contagiosum        0\n",
       "std_hiv                          0\n",
       "std_hepatitisb                   0\n",
       "std_hpv                          0\n",
       "std_num_diagnosis                0\n",
       "dx_cancer                        0\n",
       "dx_cin                           0\n",
       "dx_hpv                           0\n",
       "dx                               0\n",
       "hinselmann                       0\n",
       "schiller                         0\n",
       "citology                         0\n",
       "biopsy                           0\n",
       "dtype: int64"
      ]
     },
     "execution_count": 407,
     "metadata": {},
     "output_type": "execute_result"
    }
   ],
   "source": [
    "#drop columns that are collinear? \n",
    "\n",
    "df = df.drop(['stds', 'stds_number'], axis=1)\n",
    "\n",
    "df.isnull().sum()"
   ]
  },
  {
   "cell_type": "code",
   "execution_count": 408,
   "metadata": {
    "collapsed": true
   },
   "outputs": [],
   "source": [
    "df.to_csv('/Users/ling/desktop/project_data2.csv')"
   ]
  },
  {
   "cell_type": "code",
   "execution_count": 409,
   "metadata": {},
   "outputs": [
    {
     "name": "stdout",
     "output_type": "stream",
     "text": [
      "(742, 30)\n"
     ]
    },
    {
     "data": {
      "text/plain": [
       "age                             0\n",
       "sexual_partners                 0\n",
       "first_sexual_intercourse        0\n",
       "num_pregnancies                 0\n",
       "smokes                          0\n",
       "smoke_years                     0\n",
       "smoke_packs_per_year            0\n",
       "hormonal_contraceptives         0\n",
       "hormonal_contraceptive_years    0\n",
       "iud                             0\n",
       "iud_years                       0\n",
       "std_condylomatosis              0\n",
       "std_vaginal_condylomatosis      0\n",
       "std_vulvo_condylomatosis        0\n",
       "std_syphilis                    0\n",
       "std_pelvic_inflam               0\n",
       "std_genital_herpes              0\n",
       "std_molluscum_contagiosum       0\n",
       "std_hiv                         0\n",
       "std_hepatitisb                  0\n",
       "std_hpv                         0\n",
       "std_num_diagnosis               0\n",
       "dx_cancer                       0\n",
       "dx_cin                          0\n",
       "dx_hpv                          0\n",
       "dx                              0\n",
       "hinselmann                      0\n",
       "schiller                        0\n",
       "citology                        0\n",
       "biopsy                          0\n",
       "dtype: int64"
      ]
     },
     "execution_count": 409,
     "metadata": {},
     "output_type": "execute_result"
    }
   ],
   "source": [
    "#either drop columns with nan or replace with median/most common value \n",
    "\n",
    "#1. Option 1, drop columns with na value. this would get 668 results \n",
    "# df = df.dropna(how='any')\n",
    "\n",
    "#2. Option 2, fill valuew with the median value. \n",
    "\n",
    "columns = df.columns\n",
    "\n",
    "for col in columns:\n",
    "    df = df\n",
    "    df[col] = df[col].fillna(df[col].median())\n",
    "\n",
    "print df.shape\n",
    "df.isnull().sum()\n"
   ]
  },
  {
   "cell_type": "code",
   "execution_count": 410,
   "metadata": {
    "collapsed": true
   },
   "outputs": [],
   "source": [
    "df.to_csv('/Users/ling/desktop/project_data2.csv')"
   ]
  },
  {
   "cell_type": "code",
   "execution_count": 411,
   "metadata": {},
   "outputs": [
    {
     "data": {
      "text/html": [
       "<div>\n",
       "<style>\n",
       "    .dataframe thead tr:only-child th {\n",
       "        text-align: right;\n",
       "    }\n",
       "\n",
       "    .dataframe thead th {\n",
       "        text-align: left;\n",
       "    }\n",
       "\n",
       "    .dataframe tbody tr th {\n",
       "        vertical-align: top;\n",
       "    }\n",
       "</style>\n",
       "<table border=\"1\" class=\"dataframe\">\n",
       "  <thead>\n",
       "    <tr style=\"text-align: right;\">\n",
       "      <th></th>\n",
       "      <th>age</th>\n",
       "      <th>sexual_partners</th>\n",
       "      <th>first_sexual_intercourse</th>\n",
       "      <th>num_pregnancies</th>\n",
       "      <th>smokes</th>\n",
       "      <th>smoke_years</th>\n",
       "      <th>smoke_packs_per_year</th>\n",
       "      <th>hormonal_contraceptives</th>\n",
       "      <th>hormonal_contraceptive_years</th>\n",
       "      <th>iud</th>\n",
       "      <th>iud_years</th>\n",
       "      <th>std_condylomatosis</th>\n",
       "      <th>std_vaginal_condylomatosis</th>\n",
       "      <th>std_vulvo_condylomatosis</th>\n",
       "      <th>std_syphilis</th>\n",
       "      <th>std_pelvic_inflam</th>\n",
       "      <th>std_genital_herpes</th>\n",
       "      <th>std_molluscum_contagiosum</th>\n",
       "      <th>std_hiv</th>\n",
       "      <th>std_hepatitisb</th>\n",
       "      <th>std_hpv</th>\n",
       "      <th>std_num_diagnosis</th>\n",
       "      <th>dx_cancer</th>\n",
       "      <th>dx_cin</th>\n",
       "      <th>dx_hpv</th>\n",
       "      <th>dx</th>\n",
       "      <th>hinselmann</th>\n",
       "      <th>schiller</th>\n",
       "      <th>citology</th>\n",
       "      <th>biopsy</th>\n",
       "    </tr>\n",
       "  </thead>\n",
       "  <tbody>\n",
       "    <tr>\n",
       "      <th>0</th>\n",
       "      <td>18</td>\n",
       "      <td>4.0</td>\n",
       "      <td>15.0</td>\n",
       "      <td>1.0</td>\n",
       "      <td>0.0</td>\n",
       "      <td>0.000000</td>\n",
       "      <td>0.0</td>\n",
       "      <td>0.0</td>\n",
       "      <td>0.0</td>\n",
       "      <td>0.0</td>\n",
       "      <td>0.0</td>\n",
       "      <td>0.0</td>\n",
       "      <td>0.0</td>\n",
       "      <td>0.0</td>\n",
       "      <td>0.0</td>\n",
       "      <td>0.0</td>\n",
       "      <td>0.0</td>\n",
       "      <td>0.0</td>\n",
       "      <td>0.0</td>\n",
       "      <td>0.0</td>\n",
       "      <td>0.0</td>\n",
       "      <td>0</td>\n",
       "      <td>0</td>\n",
       "      <td>0</td>\n",
       "      <td>0</td>\n",
       "      <td>0</td>\n",
       "      <td>0</td>\n",
       "      <td>0</td>\n",
       "      <td>0</td>\n",
       "      <td>0</td>\n",
       "    </tr>\n",
       "    <tr>\n",
       "      <th>1</th>\n",
       "      <td>15</td>\n",
       "      <td>1.0</td>\n",
       "      <td>14.0</td>\n",
       "      <td>1.0</td>\n",
       "      <td>0.0</td>\n",
       "      <td>0.000000</td>\n",
       "      <td>0.0</td>\n",
       "      <td>0.0</td>\n",
       "      <td>0.0</td>\n",
       "      <td>0.0</td>\n",
       "      <td>0.0</td>\n",
       "      <td>0.0</td>\n",
       "      <td>0.0</td>\n",
       "      <td>0.0</td>\n",
       "      <td>0.0</td>\n",
       "      <td>0.0</td>\n",
       "      <td>0.0</td>\n",
       "      <td>0.0</td>\n",
       "      <td>0.0</td>\n",
       "      <td>0.0</td>\n",
       "      <td>0.0</td>\n",
       "      <td>0</td>\n",
       "      <td>0</td>\n",
       "      <td>0</td>\n",
       "      <td>0</td>\n",
       "      <td>0</td>\n",
       "      <td>0</td>\n",
       "      <td>0</td>\n",
       "      <td>0</td>\n",
       "      <td>0</td>\n",
       "    </tr>\n",
       "    <tr>\n",
       "      <th>2</th>\n",
       "      <td>34</td>\n",
       "      <td>1.0</td>\n",
       "      <td>17.0</td>\n",
       "      <td>1.0</td>\n",
       "      <td>0.0</td>\n",
       "      <td>0.000000</td>\n",
       "      <td>0.0</td>\n",
       "      <td>0.0</td>\n",
       "      <td>0.0</td>\n",
       "      <td>0.0</td>\n",
       "      <td>0.0</td>\n",
       "      <td>0.0</td>\n",
       "      <td>0.0</td>\n",
       "      <td>0.0</td>\n",
       "      <td>0.0</td>\n",
       "      <td>0.0</td>\n",
       "      <td>0.0</td>\n",
       "      <td>0.0</td>\n",
       "      <td>0.0</td>\n",
       "      <td>0.0</td>\n",
       "      <td>0.0</td>\n",
       "      <td>0</td>\n",
       "      <td>0</td>\n",
       "      <td>0</td>\n",
       "      <td>0</td>\n",
       "      <td>0</td>\n",
       "      <td>0</td>\n",
       "      <td>0</td>\n",
       "      <td>0</td>\n",
       "      <td>0</td>\n",
       "    </tr>\n",
       "    <tr>\n",
       "      <th>3</th>\n",
       "      <td>52</td>\n",
       "      <td>5.0</td>\n",
       "      <td>16.0</td>\n",
       "      <td>4.0</td>\n",
       "      <td>1.0</td>\n",
       "      <td>37.000000</td>\n",
       "      <td>37.0</td>\n",
       "      <td>1.0</td>\n",
       "      <td>3.0</td>\n",
       "      <td>0.0</td>\n",
       "      <td>0.0</td>\n",
       "      <td>0.0</td>\n",
       "      <td>0.0</td>\n",
       "      <td>0.0</td>\n",
       "      <td>0.0</td>\n",
       "      <td>0.0</td>\n",
       "      <td>0.0</td>\n",
       "      <td>0.0</td>\n",
       "      <td>0.0</td>\n",
       "      <td>0.0</td>\n",
       "      <td>0.0</td>\n",
       "      <td>0</td>\n",
       "      <td>1</td>\n",
       "      <td>0</td>\n",
       "      <td>1</td>\n",
       "      <td>0</td>\n",
       "      <td>0</td>\n",
       "      <td>0</td>\n",
       "      <td>0</td>\n",
       "      <td>0</td>\n",
       "    </tr>\n",
       "    <tr>\n",
       "      <th>4</th>\n",
       "      <td>46</td>\n",
       "      <td>3.0</td>\n",
       "      <td>21.0</td>\n",
       "      <td>4.0</td>\n",
       "      <td>0.0</td>\n",
       "      <td>0.000000</td>\n",
       "      <td>0.0</td>\n",
       "      <td>1.0</td>\n",
       "      <td>15.0</td>\n",
       "      <td>0.0</td>\n",
       "      <td>0.0</td>\n",
       "      <td>0.0</td>\n",
       "      <td>0.0</td>\n",
       "      <td>0.0</td>\n",
       "      <td>0.0</td>\n",
       "      <td>0.0</td>\n",
       "      <td>0.0</td>\n",
       "      <td>0.0</td>\n",
       "      <td>0.0</td>\n",
       "      <td>0.0</td>\n",
       "      <td>0.0</td>\n",
       "      <td>0</td>\n",
       "      <td>0</td>\n",
       "      <td>0</td>\n",
       "      <td>0</td>\n",
       "      <td>0</td>\n",
       "      <td>0</td>\n",
       "      <td>0</td>\n",
       "      <td>0</td>\n",
       "      <td>0</td>\n",
       "    </tr>\n",
       "    <tr>\n",
       "      <th>5</th>\n",
       "      <td>42</td>\n",
       "      <td>3.0</td>\n",
       "      <td>23.0</td>\n",
       "      <td>2.0</td>\n",
       "      <td>0.0</td>\n",
       "      <td>0.000000</td>\n",
       "      <td>0.0</td>\n",
       "      <td>0.0</td>\n",
       "      <td>0.0</td>\n",
       "      <td>0.0</td>\n",
       "      <td>0.0</td>\n",
       "      <td>0.0</td>\n",
       "      <td>0.0</td>\n",
       "      <td>0.0</td>\n",
       "      <td>0.0</td>\n",
       "      <td>0.0</td>\n",
       "      <td>0.0</td>\n",
       "      <td>0.0</td>\n",
       "      <td>0.0</td>\n",
       "      <td>0.0</td>\n",
       "      <td>0.0</td>\n",
       "      <td>0</td>\n",
       "      <td>0</td>\n",
       "      <td>0</td>\n",
       "      <td>0</td>\n",
       "      <td>0</td>\n",
       "      <td>0</td>\n",
       "      <td>0</td>\n",
       "      <td>0</td>\n",
       "      <td>0</td>\n",
       "    </tr>\n",
       "    <tr>\n",
       "      <th>6</th>\n",
       "      <td>51</td>\n",
       "      <td>3.0</td>\n",
       "      <td>17.0</td>\n",
       "      <td>6.0</td>\n",
       "      <td>1.0</td>\n",
       "      <td>34.000000</td>\n",
       "      <td>3.4</td>\n",
       "      <td>0.0</td>\n",
       "      <td>0.0</td>\n",
       "      <td>1.0</td>\n",
       "      <td>7.0</td>\n",
       "      <td>0.0</td>\n",
       "      <td>0.0</td>\n",
       "      <td>0.0</td>\n",
       "      <td>0.0</td>\n",
       "      <td>0.0</td>\n",
       "      <td>0.0</td>\n",
       "      <td>0.0</td>\n",
       "      <td>0.0</td>\n",
       "      <td>0.0</td>\n",
       "      <td>0.0</td>\n",
       "      <td>0</td>\n",
       "      <td>0</td>\n",
       "      <td>0</td>\n",
       "      <td>0</td>\n",
       "      <td>0</td>\n",
       "      <td>1</td>\n",
       "      <td>1</td>\n",
       "      <td>0</td>\n",
       "      <td>1</td>\n",
       "    </tr>\n",
       "    <tr>\n",
       "      <th>7</th>\n",
       "      <td>26</td>\n",
       "      <td>1.0</td>\n",
       "      <td>26.0</td>\n",
       "      <td>3.0</td>\n",
       "      <td>0.0</td>\n",
       "      <td>0.000000</td>\n",
       "      <td>0.0</td>\n",
       "      <td>1.0</td>\n",
       "      <td>2.0</td>\n",
       "      <td>1.0</td>\n",
       "      <td>7.0</td>\n",
       "      <td>0.0</td>\n",
       "      <td>0.0</td>\n",
       "      <td>0.0</td>\n",
       "      <td>0.0</td>\n",
       "      <td>0.0</td>\n",
       "      <td>0.0</td>\n",
       "      <td>0.0</td>\n",
       "      <td>0.0</td>\n",
       "      <td>0.0</td>\n",
       "      <td>0.0</td>\n",
       "      <td>0</td>\n",
       "      <td>0</td>\n",
       "      <td>0</td>\n",
       "      <td>0</td>\n",
       "      <td>0</td>\n",
       "      <td>0</td>\n",
       "      <td>0</td>\n",
       "      <td>0</td>\n",
       "      <td>0</td>\n",
       "    </tr>\n",
       "    <tr>\n",
       "      <th>8</th>\n",
       "      <td>45</td>\n",
       "      <td>1.0</td>\n",
       "      <td>20.0</td>\n",
       "      <td>5.0</td>\n",
       "      <td>0.0</td>\n",
       "      <td>0.000000</td>\n",
       "      <td>0.0</td>\n",
       "      <td>0.0</td>\n",
       "      <td>0.0</td>\n",
       "      <td>0.0</td>\n",
       "      <td>0.0</td>\n",
       "      <td>0.0</td>\n",
       "      <td>0.0</td>\n",
       "      <td>0.0</td>\n",
       "      <td>0.0</td>\n",
       "      <td>0.0</td>\n",
       "      <td>0.0</td>\n",
       "      <td>0.0</td>\n",
       "      <td>0.0</td>\n",
       "      <td>0.0</td>\n",
       "      <td>0.0</td>\n",
       "      <td>0</td>\n",
       "      <td>1</td>\n",
       "      <td>0</td>\n",
       "      <td>1</td>\n",
       "      <td>1</td>\n",
       "      <td>0</td>\n",
       "      <td>0</td>\n",
       "      <td>0</td>\n",
       "      <td>0</td>\n",
       "    </tr>\n",
       "    <tr>\n",
       "      <th>9</th>\n",
       "      <td>44</td>\n",
       "      <td>3.0</td>\n",
       "      <td>15.0</td>\n",
       "      <td>2.0</td>\n",
       "      <td>1.0</td>\n",
       "      <td>1.266973</td>\n",
       "      <td>2.8</td>\n",
       "      <td>0.0</td>\n",
       "      <td>0.0</td>\n",
       "      <td>0.0</td>\n",
       "      <td>0.0</td>\n",
       "      <td>0.0</td>\n",
       "      <td>0.0</td>\n",
       "      <td>0.0</td>\n",
       "      <td>0.0</td>\n",
       "      <td>0.0</td>\n",
       "      <td>0.0</td>\n",
       "      <td>0.0</td>\n",
       "      <td>0.0</td>\n",
       "      <td>0.0</td>\n",
       "      <td>0.0</td>\n",
       "      <td>0</td>\n",
       "      <td>0</td>\n",
       "      <td>0</td>\n",
       "      <td>0</td>\n",
       "      <td>0</td>\n",
       "      <td>0</td>\n",
       "      <td>0</td>\n",
       "      <td>0</td>\n",
       "      <td>0</td>\n",
       "    </tr>\n",
       "  </tbody>\n",
       "</table>\n",
       "</div>"
      ],
      "text/plain": [
       "   age  sexual_partners  first_sexual_intercourse  num_pregnancies  smokes  \\\n",
       "0   18              4.0                      15.0              1.0     0.0   \n",
       "1   15              1.0                      14.0              1.0     0.0   \n",
       "2   34              1.0                      17.0              1.0     0.0   \n",
       "3   52              5.0                      16.0              4.0     1.0   \n",
       "4   46              3.0                      21.0              4.0     0.0   \n",
       "5   42              3.0                      23.0              2.0     0.0   \n",
       "6   51              3.0                      17.0              6.0     1.0   \n",
       "7   26              1.0                      26.0              3.0     0.0   \n",
       "8   45              1.0                      20.0              5.0     0.0   \n",
       "9   44              3.0                      15.0              2.0     1.0   \n",
       "\n",
       "   smoke_years  smoke_packs_per_year  hormonal_contraceptives  \\\n",
       "0     0.000000                   0.0                      0.0   \n",
       "1     0.000000                   0.0                      0.0   \n",
       "2     0.000000                   0.0                      0.0   \n",
       "3    37.000000                  37.0                      1.0   \n",
       "4     0.000000                   0.0                      1.0   \n",
       "5     0.000000                   0.0                      0.0   \n",
       "6    34.000000                   3.4                      0.0   \n",
       "7     0.000000                   0.0                      1.0   \n",
       "8     0.000000                   0.0                      0.0   \n",
       "9     1.266973                   2.8                      0.0   \n",
       "\n",
       "   hormonal_contraceptive_years  iud  iud_years  std_condylomatosis  \\\n",
       "0                           0.0  0.0        0.0                 0.0   \n",
       "1                           0.0  0.0        0.0                 0.0   \n",
       "2                           0.0  0.0        0.0                 0.0   \n",
       "3                           3.0  0.0        0.0                 0.0   \n",
       "4                          15.0  0.0        0.0                 0.0   \n",
       "5                           0.0  0.0        0.0                 0.0   \n",
       "6                           0.0  1.0        7.0                 0.0   \n",
       "7                           2.0  1.0        7.0                 0.0   \n",
       "8                           0.0  0.0        0.0                 0.0   \n",
       "9                           0.0  0.0        0.0                 0.0   \n",
       "\n",
       "   std_vaginal_condylomatosis  std_vulvo_condylomatosis  std_syphilis  \\\n",
       "0                         0.0                       0.0           0.0   \n",
       "1                         0.0                       0.0           0.0   \n",
       "2                         0.0                       0.0           0.0   \n",
       "3                         0.0                       0.0           0.0   \n",
       "4                         0.0                       0.0           0.0   \n",
       "5                         0.0                       0.0           0.0   \n",
       "6                         0.0                       0.0           0.0   \n",
       "7                         0.0                       0.0           0.0   \n",
       "8                         0.0                       0.0           0.0   \n",
       "9                         0.0                       0.0           0.0   \n",
       "\n",
       "   std_pelvic_inflam  std_genital_herpes  std_molluscum_contagiosum  std_hiv  \\\n",
       "0                0.0                 0.0                        0.0      0.0   \n",
       "1                0.0                 0.0                        0.0      0.0   \n",
       "2                0.0                 0.0                        0.0      0.0   \n",
       "3                0.0                 0.0                        0.0      0.0   \n",
       "4                0.0                 0.0                        0.0      0.0   \n",
       "5                0.0                 0.0                        0.0      0.0   \n",
       "6                0.0                 0.0                        0.0      0.0   \n",
       "7                0.0                 0.0                        0.0      0.0   \n",
       "8                0.0                 0.0                        0.0      0.0   \n",
       "9                0.0                 0.0                        0.0      0.0   \n",
       "\n",
       "   std_hepatitisb  std_hpv  std_num_diagnosis  dx_cancer  dx_cin  dx_hpv  dx  \\\n",
       "0             0.0      0.0                  0          0       0       0   0   \n",
       "1             0.0      0.0                  0          0       0       0   0   \n",
       "2             0.0      0.0                  0          0       0       0   0   \n",
       "3             0.0      0.0                  0          1       0       1   0   \n",
       "4             0.0      0.0                  0          0       0       0   0   \n",
       "5             0.0      0.0                  0          0       0       0   0   \n",
       "6             0.0      0.0                  0          0       0       0   0   \n",
       "7             0.0      0.0                  0          0       0       0   0   \n",
       "8             0.0      0.0                  0          1       0       1   1   \n",
       "9             0.0      0.0                  0          0       0       0   0   \n",
       "\n",
       "   hinselmann  schiller  citology  biopsy  \n",
       "0           0         0         0       0  \n",
       "1           0         0         0       0  \n",
       "2           0         0         0       0  \n",
       "3           0         0         0       0  \n",
       "4           0         0         0       0  \n",
       "5           0         0         0       0  \n",
       "6           1         1         0       1  \n",
       "7           0         0         0       0  \n",
       "8           0         0         0       0  \n",
       "9           0         0         0       0  "
      ]
     },
     "execution_count": 411,
     "metadata": {},
     "output_type": "execute_result"
    }
   ],
   "source": [
    "df.head(10)"
   ]
  },
  {
   "cell_type": "markdown",
   "metadata": {},
   "source": [
    "## 2. EDA"
   ]
  },
  {
   "cell_type": "code",
   "execution_count": 412,
   "metadata": {},
   "outputs": [
    {
     "data": {
      "text/html": [
       "<div>\n",
       "<style>\n",
       "    .dataframe thead tr:only-child th {\n",
       "        text-align: right;\n",
       "    }\n",
       "\n",
       "    .dataframe thead th {\n",
       "        text-align: left;\n",
       "    }\n",
       "\n",
       "    .dataframe tbody tr th {\n",
       "        vertical-align: top;\n",
       "    }\n",
       "</style>\n",
       "<table border=\"1\" class=\"dataframe\">\n",
       "  <thead>\n",
       "    <tr style=\"text-align: right;\">\n",
       "      <th></th>\n",
       "      <th>age</th>\n",
       "      <th>sexual_partners</th>\n",
       "      <th>first_sexual_intercourse</th>\n",
       "      <th>num_pregnancies</th>\n",
       "      <th>smokes</th>\n",
       "      <th>smoke_years</th>\n",
       "      <th>smoke_packs_per_year</th>\n",
       "      <th>hormonal_contraceptives</th>\n",
       "      <th>hormonal_contraceptive_years</th>\n",
       "      <th>iud</th>\n",
       "      <th>iud_years</th>\n",
       "      <th>std_condylomatosis</th>\n",
       "      <th>std_vaginal_condylomatosis</th>\n",
       "      <th>std_vulvo_condylomatosis</th>\n",
       "      <th>std_syphilis</th>\n",
       "      <th>std_pelvic_inflam</th>\n",
       "      <th>std_genital_herpes</th>\n",
       "      <th>std_molluscum_contagiosum</th>\n",
       "      <th>std_hiv</th>\n",
       "      <th>std_hepatitisb</th>\n",
       "      <th>std_hpv</th>\n",
       "      <th>std_num_diagnosis</th>\n",
       "      <th>dx_cancer</th>\n",
       "      <th>dx_cin</th>\n",
       "      <th>dx_hpv</th>\n",
       "      <th>dx</th>\n",
       "      <th>hinselmann</th>\n",
       "      <th>schiller</th>\n",
       "      <th>citology</th>\n",
       "      <th>biopsy</th>\n",
       "    </tr>\n",
       "  </thead>\n",
       "  <tbody>\n",
       "    <tr>\n",
       "      <th>count</th>\n",
       "      <td>742.000000</td>\n",
       "      <td>742.000000</td>\n",
       "      <td>742.000000</td>\n",
       "      <td>742.000000</td>\n",
       "      <td>742.000000</td>\n",
       "      <td>742.000000</td>\n",
       "      <td>742.000000</td>\n",
       "      <td>742.000000</td>\n",
       "      <td>742.000000</td>\n",
       "      <td>742.000000</td>\n",
       "      <td>742.000000</td>\n",
       "      <td>742.000000</td>\n",
       "      <td>742.000000</td>\n",
       "      <td>742.000000</td>\n",
       "      <td>742.000000</td>\n",
       "      <td>742.000000</td>\n",
       "      <td>742.000000</td>\n",
       "      <td>742.000000</td>\n",
       "      <td>742.000000</td>\n",
       "      <td>742.000000</td>\n",
       "      <td>742.000000</td>\n",
       "      <td>742.000000</td>\n",
       "      <td>742.000000</td>\n",
       "      <td>742.000000</td>\n",
       "      <td>742.000000</td>\n",
       "      <td>742.000000</td>\n",
       "      <td>742.000000</td>\n",
       "      <td>742.000000</td>\n",
       "      <td>742.000000</td>\n",
       "      <td>742.000000</td>\n",
       "    </tr>\n",
       "    <tr>\n",
       "      <th>mean</th>\n",
       "      <td>27.254717</td>\n",
       "      <td>2.524259</td>\n",
       "      <td>17.105121</td>\n",
       "      <td>2.296496</td>\n",
       "      <td>0.141509</td>\n",
       "      <td>1.218145</td>\n",
       "      <td>0.457588</td>\n",
       "      <td>0.638814</td>\n",
       "      <td>2.207405</td>\n",
       "      <td>0.111860</td>\n",
       "      <td>0.514111</td>\n",
       "      <td>0.057951</td>\n",
       "      <td>0.005391</td>\n",
       "      <td>0.056604</td>\n",
       "      <td>0.021563</td>\n",
       "      <td>0.001348</td>\n",
       "      <td>0.001348</td>\n",
       "      <td>0.001348</td>\n",
       "      <td>0.021563</td>\n",
       "      <td>0.001348</td>\n",
       "      <td>0.002695</td>\n",
       "      <td>0.095687</td>\n",
       "      <td>0.024259</td>\n",
       "      <td>0.010782</td>\n",
       "      <td>0.022911</td>\n",
       "      <td>0.029650</td>\n",
       "      <td>0.047170</td>\n",
       "      <td>0.098383</td>\n",
       "      <td>0.055256</td>\n",
       "      <td>0.071429</td>\n",
       "    </tr>\n",
       "    <tr>\n",
       "      <th>std</th>\n",
       "      <td>8.721115</td>\n",
       "      <td>1.679062</td>\n",
       "      <td>2.838857</td>\n",
       "      <td>1.416488</td>\n",
       "      <td>0.348781</td>\n",
       "      <td>4.140580</td>\n",
       "      <td>2.297201</td>\n",
       "      <td>0.480668</td>\n",
       "      <td>3.630715</td>\n",
       "      <td>0.315407</td>\n",
       "      <td>1.941869</td>\n",
       "      <td>0.233809</td>\n",
       "      <td>0.073274</td>\n",
       "      <td>0.231240</td>\n",
       "      <td>0.145351</td>\n",
       "      <td>0.036711</td>\n",
       "      <td>0.036711</td>\n",
       "      <td>0.036711</td>\n",
       "      <td>0.145351</td>\n",
       "      <td>0.036711</td>\n",
       "      <td>0.051882</td>\n",
       "      <td>0.316454</td>\n",
       "      <td>0.153955</td>\n",
       "      <td>0.103343</td>\n",
       "      <td>0.149721</td>\n",
       "      <td>0.169733</td>\n",
       "      <td>0.212145</td>\n",
       "      <td>0.298032</td>\n",
       "      <td>0.228634</td>\n",
       "      <td>0.257713</td>\n",
       "    </tr>\n",
       "    <tr>\n",
       "      <th>min</th>\n",
       "      <td>13.000000</td>\n",
       "      <td>1.000000</td>\n",
       "      <td>10.000000</td>\n",
       "      <td>0.000000</td>\n",
       "      <td>0.000000</td>\n",
       "      <td>0.000000</td>\n",
       "      <td>0.000000</td>\n",
       "      <td>0.000000</td>\n",
       "      <td>0.000000</td>\n",
       "      <td>0.000000</td>\n",
       "      <td>0.000000</td>\n",
       "      <td>0.000000</td>\n",
       "      <td>0.000000</td>\n",
       "      <td>0.000000</td>\n",
       "      <td>0.000000</td>\n",
       "      <td>0.000000</td>\n",
       "      <td>0.000000</td>\n",
       "      <td>0.000000</td>\n",
       "      <td>0.000000</td>\n",
       "      <td>0.000000</td>\n",
       "      <td>0.000000</td>\n",
       "      <td>0.000000</td>\n",
       "      <td>0.000000</td>\n",
       "      <td>0.000000</td>\n",
       "      <td>0.000000</td>\n",
       "      <td>0.000000</td>\n",
       "      <td>0.000000</td>\n",
       "      <td>0.000000</td>\n",
       "      <td>0.000000</td>\n",
       "      <td>0.000000</td>\n",
       "    </tr>\n",
       "    <tr>\n",
       "      <th>25%</th>\n",
       "      <td>21.000000</td>\n",
       "      <td>2.000000</td>\n",
       "      <td>15.000000</td>\n",
       "      <td>1.000000</td>\n",
       "      <td>0.000000</td>\n",
       "      <td>0.000000</td>\n",
       "      <td>0.000000</td>\n",
       "      <td>0.000000</td>\n",
       "      <td>0.000000</td>\n",
       "      <td>0.000000</td>\n",
       "      <td>0.000000</td>\n",
       "      <td>0.000000</td>\n",
       "      <td>0.000000</td>\n",
       "      <td>0.000000</td>\n",
       "      <td>0.000000</td>\n",
       "      <td>0.000000</td>\n",
       "      <td>0.000000</td>\n",
       "      <td>0.000000</td>\n",
       "      <td>0.000000</td>\n",
       "      <td>0.000000</td>\n",
       "      <td>0.000000</td>\n",
       "      <td>0.000000</td>\n",
       "      <td>0.000000</td>\n",
       "      <td>0.000000</td>\n",
       "      <td>0.000000</td>\n",
       "      <td>0.000000</td>\n",
       "      <td>0.000000</td>\n",
       "      <td>0.000000</td>\n",
       "      <td>0.000000</td>\n",
       "      <td>0.000000</td>\n",
       "    </tr>\n",
       "    <tr>\n",
       "      <th>50%</th>\n",
       "      <td>26.000000</td>\n",
       "      <td>2.000000</td>\n",
       "      <td>17.000000</td>\n",
       "      <td>2.000000</td>\n",
       "      <td>0.000000</td>\n",
       "      <td>0.000000</td>\n",
       "      <td>0.000000</td>\n",
       "      <td>1.000000</td>\n",
       "      <td>0.500000</td>\n",
       "      <td>0.000000</td>\n",
       "      <td>0.000000</td>\n",
       "      <td>0.000000</td>\n",
       "      <td>0.000000</td>\n",
       "      <td>0.000000</td>\n",
       "      <td>0.000000</td>\n",
       "      <td>0.000000</td>\n",
       "      <td>0.000000</td>\n",
       "      <td>0.000000</td>\n",
       "      <td>0.000000</td>\n",
       "      <td>0.000000</td>\n",
       "      <td>0.000000</td>\n",
       "      <td>0.000000</td>\n",
       "      <td>0.000000</td>\n",
       "      <td>0.000000</td>\n",
       "      <td>0.000000</td>\n",
       "      <td>0.000000</td>\n",
       "      <td>0.000000</td>\n",
       "      <td>0.000000</td>\n",
       "      <td>0.000000</td>\n",
       "      <td>0.000000</td>\n",
       "    </tr>\n",
       "    <tr>\n",
       "      <th>75%</th>\n",
       "      <td>33.000000</td>\n",
       "      <td>3.000000</td>\n",
       "      <td>18.000000</td>\n",
       "      <td>3.000000</td>\n",
       "      <td>0.000000</td>\n",
       "      <td>0.000000</td>\n",
       "      <td>0.000000</td>\n",
       "      <td>1.000000</td>\n",
       "      <td>3.000000</td>\n",
       "      <td>0.000000</td>\n",
       "      <td>0.000000</td>\n",
       "      <td>0.000000</td>\n",
       "      <td>0.000000</td>\n",
       "      <td>0.000000</td>\n",
       "      <td>0.000000</td>\n",
       "      <td>0.000000</td>\n",
       "      <td>0.000000</td>\n",
       "      <td>0.000000</td>\n",
       "      <td>0.000000</td>\n",
       "      <td>0.000000</td>\n",
       "      <td>0.000000</td>\n",
       "      <td>0.000000</td>\n",
       "      <td>0.000000</td>\n",
       "      <td>0.000000</td>\n",
       "      <td>0.000000</td>\n",
       "      <td>0.000000</td>\n",
       "      <td>0.000000</td>\n",
       "      <td>0.000000</td>\n",
       "      <td>0.000000</td>\n",
       "      <td>0.000000</td>\n",
       "    </tr>\n",
       "    <tr>\n",
       "      <th>max</th>\n",
       "      <td>84.000000</td>\n",
       "      <td>28.000000</td>\n",
       "      <td>32.000000</td>\n",
       "      <td>11.000000</td>\n",
       "      <td>1.000000</td>\n",
       "      <td>37.000000</td>\n",
       "      <td>37.000000</td>\n",
       "      <td>1.000000</td>\n",
       "      <td>22.000000</td>\n",
       "      <td>1.000000</td>\n",
       "      <td>19.000000</td>\n",
       "      <td>1.000000</td>\n",
       "      <td>1.000000</td>\n",
       "      <td>1.000000</td>\n",
       "      <td>1.000000</td>\n",
       "      <td>1.000000</td>\n",
       "      <td>1.000000</td>\n",
       "      <td>1.000000</td>\n",
       "      <td>1.000000</td>\n",
       "      <td>1.000000</td>\n",
       "      <td>1.000000</td>\n",
       "      <td>3.000000</td>\n",
       "      <td>1.000000</td>\n",
       "      <td>1.000000</td>\n",
       "      <td>1.000000</td>\n",
       "      <td>1.000000</td>\n",
       "      <td>1.000000</td>\n",
       "      <td>1.000000</td>\n",
       "      <td>1.000000</td>\n",
       "      <td>1.000000</td>\n",
       "    </tr>\n",
       "  </tbody>\n",
       "</table>\n",
       "</div>"
      ],
      "text/plain": [
       "              age  sexual_partners  first_sexual_intercourse  num_pregnancies  \\\n",
       "count  742.000000       742.000000                742.000000       742.000000   \n",
       "mean    27.254717         2.524259                 17.105121         2.296496   \n",
       "std      8.721115         1.679062                  2.838857         1.416488   \n",
       "min     13.000000         1.000000                 10.000000         0.000000   \n",
       "25%     21.000000         2.000000                 15.000000         1.000000   \n",
       "50%     26.000000         2.000000                 17.000000         2.000000   \n",
       "75%     33.000000         3.000000                 18.000000         3.000000   \n",
       "max     84.000000        28.000000                 32.000000        11.000000   \n",
       "\n",
       "           smokes  smoke_years  smoke_packs_per_year  hormonal_contraceptives  \\\n",
       "count  742.000000   742.000000            742.000000               742.000000   \n",
       "mean     0.141509     1.218145              0.457588                 0.638814   \n",
       "std      0.348781     4.140580              2.297201                 0.480668   \n",
       "min      0.000000     0.000000              0.000000                 0.000000   \n",
       "25%      0.000000     0.000000              0.000000                 0.000000   \n",
       "50%      0.000000     0.000000              0.000000                 1.000000   \n",
       "75%      0.000000     0.000000              0.000000                 1.000000   \n",
       "max      1.000000    37.000000             37.000000                 1.000000   \n",
       "\n",
       "       hormonal_contraceptive_years         iud   iud_years  \\\n",
       "count                    742.000000  742.000000  742.000000   \n",
       "mean                       2.207405    0.111860    0.514111   \n",
       "std                        3.630715    0.315407    1.941869   \n",
       "min                        0.000000    0.000000    0.000000   \n",
       "25%                        0.000000    0.000000    0.000000   \n",
       "50%                        0.500000    0.000000    0.000000   \n",
       "75%                        3.000000    0.000000    0.000000   \n",
       "max                       22.000000    1.000000   19.000000   \n",
       "\n",
       "       std_condylomatosis  std_vaginal_condylomatosis  \\\n",
       "count          742.000000                  742.000000   \n",
       "mean             0.057951                    0.005391   \n",
       "std              0.233809                    0.073274   \n",
       "min              0.000000                    0.000000   \n",
       "25%              0.000000                    0.000000   \n",
       "50%              0.000000                    0.000000   \n",
       "75%              0.000000                    0.000000   \n",
       "max              1.000000                    1.000000   \n",
       "\n",
       "       std_vulvo_condylomatosis  std_syphilis  std_pelvic_inflam  \\\n",
       "count                742.000000    742.000000         742.000000   \n",
       "mean                   0.056604      0.021563           0.001348   \n",
       "std                    0.231240      0.145351           0.036711   \n",
       "min                    0.000000      0.000000           0.000000   \n",
       "25%                    0.000000      0.000000           0.000000   \n",
       "50%                    0.000000      0.000000           0.000000   \n",
       "75%                    0.000000      0.000000           0.000000   \n",
       "max                    1.000000      1.000000           1.000000   \n",
       "\n",
       "       std_genital_herpes  std_molluscum_contagiosum     std_hiv  \\\n",
       "count          742.000000                 742.000000  742.000000   \n",
       "mean             0.001348                   0.001348    0.021563   \n",
       "std              0.036711                   0.036711    0.145351   \n",
       "min              0.000000                   0.000000    0.000000   \n",
       "25%              0.000000                   0.000000    0.000000   \n",
       "50%              0.000000                   0.000000    0.000000   \n",
       "75%              0.000000                   0.000000    0.000000   \n",
       "max              1.000000                   1.000000    1.000000   \n",
       "\n",
       "       std_hepatitisb     std_hpv  std_num_diagnosis   dx_cancer      dx_cin  \\\n",
       "count      742.000000  742.000000         742.000000  742.000000  742.000000   \n",
       "mean         0.001348    0.002695           0.095687    0.024259    0.010782   \n",
       "std          0.036711    0.051882           0.316454    0.153955    0.103343   \n",
       "min          0.000000    0.000000           0.000000    0.000000    0.000000   \n",
       "25%          0.000000    0.000000           0.000000    0.000000    0.000000   \n",
       "50%          0.000000    0.000000           0.000000    0.000000    0.000000   \n",
       "75%          0.000000    0.000000           0.000000    0.000000    0.000000   \n",
       "max          1.000000    1.000000           3.000000    1.000000    1.000000   \n",
       "\n",
       "           dx_hpv          dx  hinselmann    schiller    citology      biopsy  \n",
       "count  742.000000  742.000000  742.000000  742.000000  742.000000  742.000000  \n",
       "mean     0.022911    0.029650    0.047170    0.098383    0.055256    0.071429  \n",
       "std      0.149721    0.169733    0.212145    0.298032    0.228634    0.257713  \n",
       "min      0.000000    0.000000    0.000000    0.000000    0.000000    0.000000  \n",
       "25%      0.000000    0.000000    0.000000    0.000000    0.000000    0.000000  \n",
       "50%      0.000000    0.000000    0.000000    0.000000    0.000000    0.000000  \n",
       "75%      0.000000    0.000000    0.000000    0.000000    0.000000    0.000000  \n",
       "max      1.000000    1.000000    1.000000    1.000000    1.000000    1.000000  "
      ]
     },
     "execution_count": 412,
     "metadata": {},
     "output_type": "execute_result"
    }
   ],
   "source": [
    "df.describe()"
   ]
  },
  {
   "cell_type": "code",
   "execution_count": 413,
   "metadata": {},
   "outputs": [
    {
     "data": {
      "image/png": "[encoded data removed]",
      "text/plain": [
       "<matplotlib.figure.Figure at 0x1a0e901050>"
      ]
     },
     "metadata": {},
     "output_type": "display_data"
    }
   ],
   "source": [
    "sns.heatmap(df.corr())\n",
    "sns.set(rc={'figure.figsize':(40,40)})"
   ]
  },
  {
   "cell_type": "code",
   "execution_count": 414,
   "metadata": {},
   "outputs": [
    {
     "data": {
      "text/plain": [
       "<seaborn.axisgrid.PairGrid at 0x1a1692c110>"
      ]
     },
     "execution_count": 414,
     "metadata": {},
     "output_type": "execute_result"
    },
    {
     "data": {
      "image/png": "[encoded data removed]",
      "text/plain": [
       "<matplotlib.figure.Figure at 0x1a1690df90>"
      ]
     },
     "metadata": {},
     "output_type": "display_data"
    }
   ],
   "source": [
    "sns.pairplot(df.iloc[:, 6:10])"
   ]
  },
  {
   "cell_type": "code",
   "execution_count": 415,
   "metadata": {
    "scrolled": true
   },
   "outputs": [
    {
     "data": {
      "image/png": "[encoded data removed]",
      "text/plain": [
       "<matplotlib.figure.Figure at 0x1a0e637890>"
      ]
     },
     "metadata": {},
     "output_type": "display_data"
    },
    {
     "data": {
      "image/png": "[encoded data removed]",
      "text/plain": [
       "<matplotlib.figure.Figure at 0x1a0e4d1d90>"
      ]
     },
     "metadata": {},
     "output_type": "display_data"
    },
    {
     "data": {
      "image/png": "[encoded data removed]",
      "text/plain": [
       "<matplotlib.figure.Figure at 0x1a0e9c9050>"
      ]
     },
     "metadata": {},
     "output_type": "display_data"
    },
    {
     "data": {
      "image/png": "[encoded data removed]",
      "text/plain": [
       "<matplotlib.figure.Figure at 0x1a16867650>"
      ]
     },
     "metadata": {},
     "output_type": "display_data"
    },
    {
     "data": {
      "image/png": "[encoded data removed]",
      "text/plain": [
       "<matplotlib.figure.Figure at 0x1a0e832e10>"
      ]
     },
     "metadata": {},
     "output_type": "display_data"
    },
    {
     "data": {
      "image/png": "[encoded data removed]",
      "text/plain": [
       "<matplotlib.figure.Figure at 0x1a100cc350>"
      ]
     },
     "metadata": {},
     "output_type": "display_data"
    },
    {
     "data": {
      "image/png": "[encoded data removed]",
      "text/plain": [
       "<matplotlib.figure.Figure at 0x1a169e9c50>"
      ]
     },
     "metadata": {},
     "output_type": "display_data"
    },
    {
     "data": {
      "image/png": "[encoded data removed]",
      "text/plain": [
       "<matplotlib.figure.Figure at 0x1a0eacd850>"
      ]
     },
     "metadata": {},
     "output_type": "display_data"
    },
    {
     "data": {
      "image/png": "[encoded data removed]",
      "text/plain": [
       "<matplotlib.figure.Figure at 0x1a0e42d490>"
      ]
     },
     "metadata": {},
     "output_type": "display_data"
    },
    {
     "data": {
      "image/png": "[encoded data removed]",
      "text/plain": [
       "<matplotlib.figure.Figure at 0x1a0f40da10>"
      ]
     },
     "metadata": {},
     "output_type": "display_data"
    },
    {
     "data": {
      "image/png": "[encoded data removed]",
      "text/plain": [
       "<matplotlib.figure.Figure at 0x1a0e364250>"
      ]
     },
     "metadata": {},
     "output_type": "display_data"
    },
    {
     "data": {
      "image/png": "[encoded data removed]",
      "text/plain": [
       "<matplotlib.figure.Figure at 0x1a0e5947d0>"
      ]
     },
     "metadata": {},
     "output_type": "display_data"
    },
    {
     "data": {
      "image/png": "[encoded data removed]",
      "text/plain": [
       "<matplotlib.figure.Figure at 0x1a0f6666d0>"
      ]
     },
     "metadata": {},
     "output_type": "display_data"
    },
    {
     "data": {
      "image/png": "[encoded data removed]",
      "text/plain": [
       "<matplotlib.figure.Figure at 0x1a0f8fe750>"
      ]
     },
     "metadata": {},
     "output_type": "display_data"
    },
    {
     "data": {
      "image/png": "[encoded data removed]",
      "text/plain": [
       "<matplotlib.figure.Figure at 0x1a0f9039d0>"
      ]
     },
     "metadata": {},
     "output_type": "display_data"
    },
    {
     "data": {
      "image/png": "[encoded data removed]",
      "text/plain": [
       "<matplotlib.figure.Figure at 0x106dcccd0>"
      ]
     },
     "metadata": {},
     "output_type": "display_data"
    },
    {
     "data": {
      "image/png": "[encoded data removed]",
      "text/plain": [
       "<matplotlib.figure.Figure at 0x106e70550>"
      ]
     },
     "metadata": {},
     "output_type": "display_data"
    },
    {
     "data": {
      "image/png": "[encoded data removed]",
      "text/plain": [
       "<matplotlib.figure.Figure at 0x1a0cffbd50>"
      ]
     },
     "metadata": {},
     "output_type": "display_data"
    },
    {
     "data": {
      "image/png": "[encoded data removed]",
      "text/plain": [
       "<matplotlib.figure.Figure at 0x1a0d019b10>"
      ]
     },
     "metadata": {},
     "output_type": "display_data"
    },
    {
     "data": {
      "image/png": "[encoded data removed]",
      "text/plain": [
       "<matplotlib.figure.Figure at 0x1a0d08efd0>"
      ]
     },
     "metadata": {},
     "output_type": "display_data"
    },
    {
     "data": {
      "image/png": "[encoded data removed]",
      "text/plain": [
       "<matplotlib.figure.Figure at 0x1a0d0ea7d0>"
      ]
     },
     "metadata": {},
     "output_type": "display_data"
    },
    {
     "data": {
      "image/png": "[encoded data removed]",
      "text/plain": [
       "<matplotlib.figure.Figure at 0x1a0d135fd0>"
      ]
     },
     "metadata": {},
     "output_type": "display_data"
    },
    {
     "data": {
      "image/png": "[encoded data removed]",
      "text/plain": [
       "<matplotlib.figure.Figure at 0x1a0d155bd0>"
      ]
     },
     "metadata": {},
     "output_type": "display_data"
    },
    {
     "data": {
      "image/png": "[encoded data removed]",
      "text/plain": [
       "<matplotlib.figure.Figure at 0x1a0f082510>"
      ]
     },
     "metadata": {},
     "output_type": "display_data"
    },
    {
     "data": {
      "image/png": "[encoded data removed]",
      "text/plain": [
       "<matplotlib.figure.Figure at 0x1a0f0ced90>"
      ]
     },
     "metadata": {},
     "output_type": "display_data"
    },
    {
     "data": {
      "image/png": "[encoded data removed]",
      "text/plain": [
       "<matplotlib.figure.Figure at 0x1a0f359610>"
      ]
     },
     "metadata": {},
     "output_type": "display_data"
    },
    {
     "data": {
      "image/png": "[encoded data removed]",
      "text/plain": [
       "<matplotlib.figure.Figure at 0x1a0f08b9d0>"
      ]
     },
     "metadata": {},
     "output_type": "display_data"
    },
    {
     "data": {
      "image/png": "[encoded data removed]",
      "text/plain": [
       "<matplotlib.figure.Figure at 0x1a0f638850>"
      ]
     },
     "metadata": {},
     "output_type": "display_data"
    },
    {
     "data": {
      "image/png": "[encoded data removed]",
      "text/plain": [
       "<matplotlib.figure.Figure at 0x1a0f93d0d0>"
      ]
     },
     "metadata": {},
     "output_type": "display_data"
    },
    {
     "data": {
      "image/png": "[encoded data removed]",
      "text/plain": [
       "<matplotlib.figure.Figure at 0x1a0f98b910>"
      ]
     },
     "metadata": {},
     "output_type": "display_data"
    }
   ],
   "source": [
    "plot_cols = df.columns\n",
    "\n",
    "\n",
    "for col in plot_cols:\n",
    "    plt.subplots(figsize=(20,4))\n",
    "    sns.countplot(x=col, data=df)"
   ]
  },
  {
   "cell_type": "markdown",
   "metadata": {
    "collapsed": true
   },
   "source": [
    "## 3. Model!"
   ]
  },
  {
   "cell_type": "code",
   "execution_count": 416,
   "metadata": {
    "collapsed": true
   },
   "outputs": [],
   "source": [
    "X = df.drop(['hinselmann', 'schiller', 'citology', 'biopsy'], axis=1)\n",
    "Y = df['biopsy']"
   ]
  },
  {
   "cell_type": "code",
   "execution_count": 601,
   "metadata": {},
   "outputs": [
    {
     "data": {
      "text/plain": [
       "0    0.928571\n",
       "1    0.071429\n",
       "Name: biopsy, dtype: float64"
      ]
     },
     "execution_count": 601,
     "metadata": {},
     "output_type": "execute_result"
    }
   ],
   "source": [
    "Y.value_counts(normalize=True) \n",
    "\n",
    "#Null accruacy is 92.8% (if scored everyone a 0)\n",
    "#if scored everyone a 0, Recall would be 0 (the most false negatives possible)\n",
    "#want to Recall to be 1 (Recall 1 would mean no false negatives)"
   ]
  },
  {
   "cell_type": "code",
   "execution_count": 418,
   "metadata": {
    "collapsed": true
   },
   "outputs": [],
   "source": [
    "X_train, X_test, y_train, y_test = train_test_split(X, Y, \n",
    "                                                   test_size = 0.2)"
   ]
  },
  {
   "cell_type": "markdown",
   "metadata": {},
   "source": [
    "1.Logistic Regression"
   ]
  },
  {
   "cell_type": "code",
   "execution_count": 627,
   "metadata": {
    "scrolled": false
   },
   "outputs": [
    {
     "name": "stdout",
     "output_type": "stream",
     "text": [
      "Null accuracy of testing: 0    0.919463\n",
      "1    0.080537\n",
      "Name: biopsy, dtype: float64\n",
      "test model accuracy score: 0.8053691275167785\n",
      "test precision_score: 0.13043478260869565\n",
      "test recall score: 0.25\n",
      "test roc score: 0.552007299270073\n",
      "cross validation recall score: 0.4763636363636364\n",
      "cross validation roc score: 0.5740587884558053\n"
     ]
    }
   ],
   "source": [
    "#Logistic Regression Model\n",
    "scaler = StandardScaler()\n",
    "X_scaled = scaler.fit_transform(X)\n",
    "X_train_scaled, X_test_scaled, y_train_scaled, y_test_scaled = train_test_split(X_scaled, Y, \n",
    "                                                   test_size = 0.2)\n",
    "log = linear_model.LogisticRegression(class_weight='balanced')\n",
    "log.fit(X_train_scaled, y_train_scaled)\n",
    "preds = log.predict(X_test_scaled)\n",
    "preds_proba = log.predict_proba(X_test_scaled)\n",
    "\n",
    "\n",
    "print 'Null accuracy of testing:', y_test_scaled.value_counts(normalize=True)\n",
    "print 'test model accuracy score:', log.score(X_test_scaled,y_test_scaled)\n",
    "print 'test precision_score:', precision_score(y_test_scaled, preds)\n",
    "print 'test recall score:', recall_score(y_test_scaled, preds)\n",
    "print 'test roc score:', roc_auc_score(y_test_scaled, preds)\n",
    "print 'cross validation recall score:', cross_val_score(log, X_scaled, Y, cv = 5, scoring = 'recall').mean()\n",
    "print 'cross validation roc score:', cross_val_score(log, X_scaled, Y, cv = 5, scoring = 'roc_auc').mean()"
   ]
  },
  {
   "cell_type": "code",
   "execution_count": 626,
   "metadata": {
    "scrolled": false
   },
   "outputs": [],
   "source": [
    "preds = binarize(preds_proba, 0.3)[:,1]"
   ]
  },
  {
   "cell_type": "code",
   "execution_count": 518,
   "metadata": {},
   "outputs": [
    {
     "data": {
      "text/html": [
       "<div>\n",
       "<style>\n",
       "    .dataframe thead tr:only-child th {\n",
       "        text-align: right;\n",
       "    }\n",
       "\n",
       "    .dataframe thead th {\n",
       "        text-align: left;\n",
       "    }\n",
       "\n",
       "    .dataframe tbody tr th {\n",
       "        vertical-align: top;\n",
       "    }\n",
       "</style>\n",
       "<table border=\"1\" class=\"dataframe\">\n",
       "  <thead>\n",
       "    <tr style=\"text-align: right;\">\n",
       "      <th></th>\n",
       "      <th>coef</th>\n",
       "      <th>value</th>\n",
       "      <th>odds_ratio</th>\n",
       "    </tr>\n",
       "  </thead>\n",
       "  <tbody>\n",
       "    <tr>\n",
       "      <th>8</th>\n",
       "      <td>hormonal_contraceptive_years</td>\n",
       "      <td>0.407778</td>\n",
       "      <td>1.503473</td>\n",
       "    </tr>\n",
       "    <tr>\n",
       "      <th>18</th>\n",
       "      <td>std_hiv</td>\n",
       "      <td>0.382244</td>\n",
       "      <td>1.465570</td>\n",
       "    </tr>\n",
       "    <tr>\n",
       "      <th>4</th>\n",
       "      <td>smokes</td>\n",
       "      <td>0.370637</td>\n",
       "      <td>1.448657</td>\n",
       "    </tr>\n",
       "    <tr>\n",
       "      <th>24</th>\n",
       "      <td>dx_hpv</td>\n",
       "      <td>0.347419</td>\n",
       "      <td>1.415409</td>\n",
       "    </tr>\n",
       "    <tr>\n",
       "      <th>21</th>\n",
       "      <td>std_num_diagnosis</td>\n",
       "      <td>0.334982</td>\n",
       "      <td>1.397915</td>\n",
       "    </tr>\n",
       "  </tbody>\n",
       "</table>\n",
       "</div>"
      ],
      "text/plain": [
       "                            coef     value  odds_ratio\n",
       "8   hormonal_contraceptive_years  0.407778    1.503473\n",
       "18                       std_hiv  0.382244    1.465570\n",
       "4                         smokes  0.370637    1.448657\n",
       "24                        dx_hpv  0.347419    1.415409\n",
       "21             std_num_diagnosis  0.334982    1.397915"
      ]
     },
     "execution_count": 518,
     "metadata": {},
     "output_type": "execute_result"
    }
   ],
   "source": [
    "#interpret the coefficients \n",
    "coef = pd.DataFrame(zip(X.columns, np.transpose(log.coef_[0])), columns = ['coef', 'value'])\n",
    "coef['odds_ratio'] = np.e**(coef['value'])\n",
    "coef.sort_values('odds_ratio', ascending=False).head()"
   ]
  },
  {
   "cell_type": "code",
   "execution_count": 519,
   "metadata": {
    "scrolled": false
   },
   "outputs": [
    {
     "data": {
      "text/html": [
       "<div>\n",
       "<style>\n",
       "    .dataframe thead tr:only-child th {\n",
       "        text-align: right;\n",
       "    }\n",
       "\n",
       "    .dataframe thead th {\n",
       "        text-align: left;\n",
       "    }\n",
       "\n",
       "    .dataframe tbody tr th {\n",
       "        vertical-align: top;\n",
       "    }\n",
       "</style>\n",
       "<table border=\"1\" class=\"dataframe\">\n",
       "  <thead>\n",
       "    <tr style=\"text-align: right;\">\n",
       "      <th>col_0</th>\n",
       "      <th>0.0</th>\n",
       "      <th>1.0</th>\n",
       "    </tr>\n",
       "    <tr>\n",
       "      <th>biopsy</th>\n",
       "      <th></th>\n",
       "      <th></th>\n",
       "    </tr>\n",
       "  </thead>\n",
       "  <tbody>\n",
       "    <tr>\n",
       "      <th>0</th>\n",
       "      <td>37</td>\n",
       "      <td>99</td>\n",
       "    </tr>\n",
       "    <tr>\n",
       "      <th>1</th>\n",
       "      <td>8</td>\n",
       "      <td>5</td>\n",
       "    </tr>\n",
       "  </tbody>\n",
       "</table>\n",
       "</div>"
      ],
      "text/plain": [
       "col_0   0.0  1.0\n",
       "biopsy          \n",
       "0        37   99\n",
       "1         8    5"
      ]
     },
     "execution_count": 519,
     "metadata": {},
     "output_type": "execute_result"
    }
   ],
   "source": [
    "cm = confusion_matrix(y_test_scaled,preds)\n",
    "pd.crosstab(y_test_scaled,preds)\n",
    "#true negative is 268\n",
    "#true positive is 2\n",
    "#false negative is 23\n",
    "#false positive is 4"
   ]
  },
  {
   "cell_type": "code",
   "execution_count": 507,
   "metadata": {},
   "outputs": [
    {
     "name": "stdout",
     "output_type": "stream",
     "text": [
      "TPR: 0.15384615384615385\n",
      "TNR: 0.9264705882352942\n",
      "FNR: 0.8461538461538461\n",
      "FPR: 0.07352941176470588\n"
     ]
    }
   ],
   "source": [
    "#Eliminate False Negative (incorrect negative prediction)\n",
    "#False Positive is alright (just test again )\n",
    "print 'TPR:', cm[1,1]/float(cm.sum(axis=1)[1])\n",
    "print 'TNR:', cm[0,0]/float(cm.sum(axis=1)[0])\n",
    "print 'FNR:', cm[1,0]/float(cm.sum(axis=1)[1]) #THIS IS HIGH. Inverse of recall\n",
    "print 'FPR:', cm[0,1]/float(cm.sum(axis=1)[0])"
   ]
  },
  {
   "cell_type": "code",
   "execution_count": 488,
   "metadata": {},
   "outputs": [
    {
     "data": {
      "image/png": "[encoded data removed]",
      "text/plain": [
       "<matplotlib.figure.Figure at 0x106e63e10>"
      ]
     },
     "metadata": {},
     "output_type": "display_data"
    },
    {
     "name": "stdout",
     "output_type": "stream",
     "text": [
      "Train Test ROC: 0.30712669683257915\n",
      "Cross Val ROC: 0.5740587884558053\n"
     ]
    }
   ],
   "source": [
    "test_probs = log.predict_proba(X_test_scaled)[:,1]\n",
    "fpr, tpr, thres = roc_curve(y_test_scaled, test_probs)\n",
    "\n",
    "plt.figure(figsize=(13,10))\n",
    "plt.plot(fpr, tpr, linewidth=8)\n",
    "#Line of randomness\n",
    "plt.plot([0,1], [0,1], \"--\", alpha=.7)\n",
    "for label, x, y in zip(thres[::5], fpr[::5], tpr[::5]):\n",
    "    plt.annotate(\"{0:.2f}\".format(label), xy=(x, y ), size = 15)\n",
    "plt.xlabel(\"False Positive Rate\")\n",
    "plt.ylabel(\"True Positive Rate\")\n",
    "plt.title(\"ROC Curve\")\n",
    "plt.show()\n",
    "\n",
    "print 'Train Test ROC:', roc_auc_score(y_test_scaled, test_probs)\n",
    "print 'Cross Val ROC:', cross_val_score(log, X_scaled, Y,cv = 5, scoring='roc_auc').mean()"
   ]
  },
  {
   "cell_type": "markdown",
   "metadata": {},
   "source": [
    "2.Decision Tree "
   ]
  },
  {
   "cell_type": "code",
   "execution_count": 631,
   "metadata": {},
   "outputs": [
    {
     "name": "stdout",
     "output_type": "stream",
     "text": [
      "{'max_features': 1, 'min_samples_split': 20, 'criterion': 'entropy', 'max_depth': 1, 'class_weight': 'balanced'}\n",
      "0.576353756792\n"
     ]
    }
   ],
   "source": [
    "depth_range = range(1,21)\n",
    "\n",
    "param_grid_dt = {'criterion': ['gini', 'entropy'],\n",
    "                 'max_depth': depth_range,\n",
    "                 'min_samples_split' : [2, 10, 20],\n",
    "                 'class_weight' : ['balanced'],\n",
    "                 'max_features' : [1,5,10,15,20]}\n",
    "\n",
    "grid_dt = GridSearchCV(estimator=DecisionTreeClassifier(),\n",
    "                      param_grid = param_grid_dt, cv=5,\n",
    "                      scoring = 'recall')\n",
    "\n",
    "grid_dt.fit(X_train, y_train) #DO THIS ON THE ENTIRE DATA SET \n",
    "print grid_dt.best_params_\n",
    "print grid_dt.best_score_"
   ]
  },
  {
   "cell_type": "code",
   "execution_count": 632,
   "metadata": {},
   "outputs": [
    {
     "name": "stdout",
     "output_type": "stream",
     "text": [
      "Null accuracy of testing: 0    0.939597\n",
      "1    0.060403\n",
      "Name: biopsy, dtype: float64\n",
      "test model score: 0.18120805369127516\n",
      "test precision_score: 0.06201550387596899\n",
      "test recall_score: 0.8888888888888888\n",
      "test roc score: 0.5123015873015873\n",
      "cross validation recall score: 0.5036363636363637\n",
      "cross validation roc score: 0.5244531317619227\n"
     ]
    },
    {
     "data": {
      "text/html": [
       "<div>\n",
       "<style>\n",
       "    .dataframe thead tr:only-child th {\n",
       "        text-align: right;\n",
       "    }\n",
       "\n",
       "    .dataframe thead th {\n",
       "        text-align: left;\n",
       "    }\n",
       "\n",
       "    .dataframe tbody tr th {\n",
       "        vertical-align: top;\n",
       "    }\n",
       "</style>\n",
       "<table border=\"1\" class=\"dataframe\">\n",
       "  <thead>\n",
       "    <tr style=\"text-align: right;\">\n",
       "      <th></th>\n",
       "      <th>features</th>\n",
       "      <th>importance</th>\n",
       "    </tr>\n",
       "  </thead>\n",
       "  <tbody>\n",
       "    <tr>\n",
       "      <th>2</th>\n",
       "      <td>first_sexual_intercourse</td>\n",
       "      <td>1.0</td>\n",
       "    </tr>\n",
       "    <tr>\n",
       "      <th>0</th>\n",
       "      <td>age</td>\n",
       "      <td>0.0</td>\n",
       "    </tr>\n",
       "    <tr>\n",
       "      <th>14</th>\n",
       "      <td>std_syphilis</td>\n",
       "      <td>0.0</td>\n",
       "    </tr>\n",
       "    <tr>\n",
       "      <th>24</th>\n",
       "      <td>dx_hpv</td>\n",
       "      <td>0.0</td>\n",
       "    </tr>\n",
       "    <tr>\n",
       "      <th>23</th>\n",
       "      <td>dx_cin</td>\n",
       "      <td>0.0</td>\n",
       "    </tr>\n",
       "  </tbody>\n",
       "</table>\n",
       "</div>"
      ],
      "text/plain": [
       "                    features  importance\n",
       "2   first_sexual_intercourse         1.0\n",
       "0                        age         0.0\n",
       "14              std_syphilis         0.0\n",
       "24                    dx_hpv         0.0\n",
       "23                    dx_cin         0.0"
      ]
     },
     "execution_count": 632,
     "metadata": {},
     "output_type": "execute_result"
    }
   ],
   "source": [
    "dt = DecisionTreeClassifier(**grid_dt.best_params_)\n",
    "dt.fit(X_train,y_train)\n",
    "preds_dt = dt.predict(X_test)\n",
    "\n",
    "print 'Null accuracy of testing:', y_test.value_counts(normalize=True)\n",
    "print 'test model score:', dt.score(X_test,y_test)\n",
    "\n",
    "print 'test precision_score:', precision_score(y_test,preds_dt)\n",
    "print 'test recall_score:', recall_score(y_test,preds_dt)\n",
    "print 'test roc score:', roc_auc_score(y_test,preds_dt)\n",
    "\n",
    "print 'cross validation recall score:', cross_val_score(dt, X, Y, cv=5, scoring='recall').mean()\n",
    "print 'cross validation roc score:', cross_val_score(dt, X, Y, cv = 5, scoring='roc_auc').mean()\n",
    "\n",
    "cols = pd.DataFrame(list(zip(X.columns, dt.feature_importances_)),\n",
    "                    columns = ['features', 'importance'])\n",
    "\n",
    "cols.sort_values('importance', ascending=False).head()"
   ]
  },
  {
   "cell_type": "code",
   "execution_count": 552,
   "metadata": {},
   "outputs": [
    {
     "data": {
      "text/html": [
       "<div>\n",
       "<style>\n",
       "    .dataframe thead tr:only-child th {\n",
       "        text-align: right;\n",
       "    }\n",
       "\n",
       "    .dataframe thead th {\n",
       "        text-align: left;\n",
       "    }\n",
       "\n",
       "    .dataframe tbody tr th {\n",
       "        vertical-align: top;\n",
       "    }\n",
       "</style>\n",
       "<table border=\"1\" class=\"dataframe\">\n",
       "  <thead>\n",
       "    <tr style=\"text-align: right;\">\n",
       "      <th>col_0</th>\n",
       "      <th>0</th>\n",
       "      <th>1</th>\n",
       "    </tr>\n",
       "    <tr>\n",
       "      <th>biopsy</th>\n",
       "      <th></th>\n",
       "      <th></th>\n",
       "    </tr>\n",
       "  </thead>\n",
       "  <tbody>\n",
       "    <tr>\n",
       "      <th>0</th>\n",
       "      <td>104</td>\n",
       "      <td>36</td>\n",
       "    </tr>\n",
       "    <tr>\n",
       "      <th>1</th>\n",
       "      <td>3</td>\n",
       "      <td>6</td>\n",
       "    </tr>\n",
       "  </tbody>\n",
       "</table>\n",
       "</div>"
      ],
      "text/plain": [
       "col_0     0   1\n",
       "biopsy         \n",
       "0       104  36\n",
       "1         3   6"
      ]
     },
     "execution_count": 552,
     "metadata": {},
     "output_type": "execute_result"
    }
   ],
   "source": [
    "cm = confusion_matrix(y_test,preds_dt)\n",
    "pd.crosstab(y_test,preds_dt)"
   ]
  },
  {
   "cell_type": "code",
   "execution_count": 553,
   "metadata": {},
   "outputs": [
    {
     "data": {
      "image/png": "[encoded data removed]",
      "text/plain": [
       "<matplotlib.figure.Figure at 0x1a0ea786d0>"
      ]
     },
     "metadata": {},
     "output_type": "display_data"
    },
    {
     "name": "stdout",
     "output_type": "stream",
     "text": [
      "Train Set ROC: 0.6662698412698412\n",
      "Cross Val ROC: 0.559596664839445\n"
     ]
    }
   ],
   "source": [
    "dt_test_probs = dt.predict_proba(X_test)[:,1]\n",
    "fpr, tpr, thres = roc_curve(y_test, dt_test_probs)\n",
    "\n",
    "plt.figure(figsize=(13,10))\n",
    "plt.plot(fpr, tpr, linewidth=8)\n",
    "#Line of randomness\n",
    "plt.plot([0,1], [0,1], \"--\", alpha=.7)\n",
    "for label, x, y in zip(thres[::5], fpr[::5], tpr[::5]):\n",
    "    plt.annotate(\"{0:.2f}\".format(label), xy=(x, y ), size = 15)\n",
    "plt.xlabel(\"False Positive Rate\")\n",
    "plt.ylabel(\"True Positive Rate\")\n",
    "plt.title(\"ROC Curve\")\n",
    "plt.show()\n",
    "\n",
    "print 'Train Set ROC:', roc_auc_score(y_test, dt_test_probs)\n",
    "print 'Cross Val ROC:', cross_val_score(dt, X, Y, cv = 5, scoring='roc_auc').mean()"
   ]
  },
  {
   "cell_type": "code",
   "execution_count": 428,
   "metadata": {},
   "outputs": [],
   "source": [
    "# #find the best max depth\n",
    "\n",
    "# depth = range(1,21)\n",
    "# cv_scores = []\n",
    "\n",
    "# for i in depth:\n",
    "#     dt_cv = cross_val_score(DecisionTreeClassifier(max_depth=i), X, Y, cv=5, scoring='accuracy').mean()\n",
    "#     cv_scores.append(dt_cv)\n",
    "\n",
    "# print sorted(zip(cv_scores, depth), reverse=True)\n",
    "\n",
    "# plt.figure(figsize=(10,5))\n",
    "# plt.plot(depth, cv_scores, linewidth=5)\n",
    "# plt.show()"
   ]
  },
  {
   "cell_type": "code",
   "execution_count": 429,
   "metadata": {},
   "outputs": [],
   "source": [
    "# #Validation Curve\n",
    "# train_scores, test_scores = validation_curve(DecisionTreeClassifier(),\n",
    "#                                             X_test, y_test, param_name = 'max_depth', \n",
    "#                                             param_range = depth,\n",
    "#                                             cv = 5, scoring = 'accuracy')\n",
    "# train_mean = np.mean(train_scores, axis=1)\n",
    "# test_mean = np.mean(test_scores, axis=1)\n",
    "\n",
    "# plt.figure(figsize=(10,5))\n",
    "# plt.plot(depth, train_mean, label='Training Score', color='blue')\n",
    "# plt.plot(depth, test_mean, label ='Testing Score', color='green')\n",
    "\n",
    "\n",
    "# plt.title('Validation Curve')\n",
    "# plt.xlabel('Depth Value')\n",
    "# plt.ylabel('Accuracy Score')\n",
    "# plt.legend()\n",
    "# plt.show()"
   ]
  },
  {
   "cell_type": "markdown",
   "metadata": {},
   "source": [
    "3.Random Forest"
   ]
  },
  {
   "cell_type": "code",
   "execution_count": 430,
   "metadata": {
    "scrolled": true
   },
   "outputs": [
    {
     "name": "stdout",
     "output_type": "stream",
     "text": [
      "{'n_estimators': 5, 'max_features': 5, 'criterion': 'gini', 'max_depth': 15}\n",
      "0.111485853476\n"
     ]
    }
   ],
   "source": [
    "#Random Forest Grid Search\n",
    "\n",
    "rfe_estimator_range = range(1,20, 1)\n",
    "rfe_max_depth = range(1,25,2)\n",
    "\n",
    "param_grid_rfe = {'n_estimators': rfe_estimator_range,\n",
    "                 'max_depth' : rfe_max_depth,\n",
    "                 'max_features' : [1,5,10,15,20],\n",
    "                 'criterion': ['gini', 'entropy']}\n",
    "\n",
    "grid_rfe = RandomizedSearchCV(estimator=RandomForestClassifier(), n_iter = 20,\n",
    "                      param_distributions = param_grid_rfe, cv=5, scoring = 'recall')\n",
    "\n",
    "grid_rfe.fit(X_train, y_train)\n",
    "print grid_rfe.best_params_\n",
    "print grid_rfe.best_score_"
   ]
  },
  {
   "cell_type": "code",
   "execution_count": 555,
   "metadata": {},
   "outputs": [
    {
     "name": "stdout",
     "output_type": "stream",
     "text": [
      "Null accuracy of testing: 0    0.939597\n",
      "1    0.060403\n",
      "Name: biopsy, dtype: float64\n",
      "model_score: 0.9261744966442953\n",
      "precision_score: 0.0\n",
      "recall_score: 0.0\n",
      "roc score: 0.4928571428571429\n",
      "cross validation recall score: 0.05818181818181818\n",
      "cross validation roc score: 0.5402054181933585\n"
     ]
    },
    {
     "data": {
      "text/html": [
       "<div>\n",
       "<style>\n",
       "    .dataframe thead tr:only-child th {\n",
       "        text-align: right;\n",
       "    }\n",
       "\n",
       "    .dataframe thead th {\n",
       "        text-align: left;\n",
       "    }\n",
       "\n",
       "    .dataframe tbody tr th {\n",
       "        vertical-align: top;\n",
       "    }\n",
       "</style>\n",
       "<table border=\"1\" class=\"dataframe\">\n",
       "  <thead>\n",
       "    <tr style=\"text-align: right;\">\n",
       "      <th></th>\n",
       "      <th>feature</th>\n",
       "      <th>importance</th>\n",
       "    </tr>\n",
       "  </thead>\n",
       "  <tbody>\n",
       "    <tr>\n",
       "      <th>0</th>\n",
       "      <td>age</td>\n",
       "      <td>0.192292</td>\n",
       "    </tr>\n",
       "    <tr>\n",
       "      <th>2</th>\n",
       "      <td>first_sexual_intercourse</td>\n",
       "      <td>0.138541</td>\n",
       "    </tr>\n",
       "    <tr>\n",
       "      <th>3</th>\n",
       "      <td>num_pregnancies</td>\n",
       "      <td>0.119315</td>\n",
       "    </tr>\n",
       "    <tr>\n",
       "      <th>8</th>\n",
       "      <td>hormonal_contraceptive_years</td>\n",
       "      <td>0.102250</td>\n",
       "    </tr>\n",
       "    <tr>\n",
       "      <th>1</th>\n",
       "      <td>sexual_partners</td>\n",
       "      <td>0.099168</td>\n",
       "    </tr>\n",
       "    <tr>\n",
       "      <th>6</th>\n",
       "      <td>smoke_packs_per_year</td>\n",
       "      <td>0.059491</td>\n",
       "    </tr>\n",
       "    <tr>\n",
       "      <th>10</th>\n",
       "      <td>iud_years</td>\n",
       "      <td>0.056458</td>\n",
       "    </tr>\n",
       "    <tr>\n",
       "      <th>25</th>\n",
       "      <td>dx</td>\n",
       "      <td>0.037993</td>\n",
       "    </tr>\n",
       "    <tr>\n",
       "      <th>23</th>\n",
       "      <td>dx_cin</td>\n",
       "      <td>0.036368</td>\n",
       "    </tr>\n",
       "    <tr>\n",
       "      <th>18</th>\n",
       "      <td>std_hiv</td>\n",
       "      <td>0.031373</td>\n",
       "    </tr>\n",
       "  </tbody>\n",
       "</table>\n",
       "</div>"
      ],
      "text/plain": [
       "                         feature  importance\n",
       "0                            age    0.192292\n",
       "2       first_sexual_intercourse    0.138541\n",
       "3                num_pregnancies    0.119315\n",
       "8   hormonal_contraceptive_years    0.102250\n",
       "1                sexual_partners    0.099168\n",
       "6           smoke_packs_per_year    0.059491\n",
       "10                     iud_years    0.056458\n",
       "25                            dx    0.037993\n",
       "23                        dx_cin    0.036368\n",
       "18                       std_hiv    0.031373"
      ]
     },
     "execution_count": 555,
     "metadata": {},
     "output_type": "execute_result"
    }
   ],
   "source": [
    "rfe = RandomForestClassifier(**grid_rfe.best_params_)\n",
    "rfe.fit(X_train,y_train)\n",
    "preds_rfe = rfe.predict(X_test)\n",
    "\n",
    "print 'Null accuracy of testing:', y_test.value_counts(normalize=True)\n",
    "print 'model_score:', rfe.score(X_test,y_test)\n",
    "\n",
    "print 'precision_score:', precision_score(y_test,preds_rfe)\n",
    "print 'recall_score:', recall_score(y_test,preds_rfe)\n",
    "print 'roc score:', roc_auc_score(y_test,preds_rfe)\n",
    "\n",
    "print 'cross validation recall score:', cross_val_score(rfe, X, Y, cv=5, scoring='recall').mean()\n",
    "print 'cross validation roc score:', cross_val_score(rfe, X, Y, cv=5, scoring='roc_auc').mean()\n",
    "\n",
    "pd.DataFrame({'feature':X.columns, \n",
    "              'importance':rfe.feature_importances_}).sort_values('importance', ascending = False).head(10)\n"
   ]
  },
  {
   "cell_type": "code",
   "execution_count": 556,
   "metadata": {},
   "outputs": [
    {
     "data": {
      "text/html": [
       "<div>\n",
       "<style>\n",
       "    .dataframe thead tr:only-child th {\n",
       "        text-align: right;\n",
       "    }\n",
       "\n",
       "    .dataframe thead th {\n",
       "        text-align: left;\n",
       "    }\n",
       "\n",
       "    .dataframe tbody tr th {\n",
       "        vertical-align: top;\n",
       "    }\n",
       "</style>\n",
       "<table border=\"1\" class=\"dataframe\">\n",
       "  <thead>\n",
       "    <tr style=\"text-align: right;\">\n",
       "      <th>col_0</th>\n",
       "      <th>0</th>\n",
       "      <th>1</th>\n",
       "    </tr>\n",
       "    <tr>\n",
       "      <th>biopsy</th>\n",
       "      <th></th>\n",
       "      <th></th>\n",
       "    </tr>\n",
       "  </thead>\n",
       "  <tbody>\n",
       "    <tr>\n",
       "      <th>0</th>\n",
       "      <td>138</td>\n",
       "      <td>2</td>\n",
       "    </tr>\n",
       "    <tr>\n",
       "      <th>1</th>\n",
       "      <td>9</td>\n",
       "      <td>0</td>\n",
       "    </tr>\n",
       "  </tbody>\n",
       "</table>\n",
       "</div>"
      ],
      "text/plain": [
       "col_0     0  1\n",
       "biopsy        \n",
       "0       138  2\n",
       "1         9  0"
      ]
     },
     "execution_count": 556,
     "metadata": {},
     "output_type": "execute_result"
    }
   ],
   "source": [
    "#confusion matrix\n",
    "cm = confusion_matrix(y_test,preds_rfe)\n",
    "pd.crosstab(y_test,preds_rfe)"
   ]
  },
  {
   "cell_type": "code",
   "execution_count": null,
   "metadata": {
    "collapsed": true
   },
   "outputs": [],
   "source": [
    "y_pred = np.where(probs>= .3, 1, 0)\n",
    "\n",
    "accuracy_score(y_test, y_pred)"
   ]
  },
  {
   "cell_type": "code",
   "execution_count": 557,
   "metadata": {},
   "outputs": [
    {
     "data": {
      "image/png": "[encoded data removed]",
      "text/plain": [
       "<matplotlib.figure.Figure at 0x1a0ea78e50>"
      ]
     },
     "metadata": {},
     "output_type": "display_data"
    },
    {
     "name": "stdout",
     "output_type": "stream",
     "text": [
      "Train Set ROC: 0.5674603174603174\n",
      "Cross Val ROC: 0.5344611138359155\n"
     ]
    }
   ],
   "source": [
    "#roc curve\n",
    "rfe_test_probs = rfe.predict_proba(X_test)[:,1]\n",
    "fpr, tpr, thres = roc_curve(y_test, rfe_test_probs)\n",
    "\n",
    "plt.figure(figsize=(13,10))\n",
    "plt.plot(fpr, tpr, linewidth=8)\n",
    "#Line of randomness\n",
    "plt.plot([0,1], [0,1], \"--\", alpha=.7)\n",
    "for label, x, y in zip(thres[::5], fpr[::5], tpr[::5]):\n",
    "    plt.annotate(\"{0:.2f}\".format(label), xy=(x, y ), size = 15)\n",
    "plt.xlabel(\"False Positive Rate\")\n",
    "plt.ylabel(\"True Positive Rate\")\n",
    "plt.title(\"ROC Curve\")\n",
    "plt.show()\n",
    "\n",
    "print 'Train Set ROC:', roc_auc_score(y_test, rfe_test_probs)\n",
    "print 'Cross Val ROC:', cross_val_score(dt, X, Y, cv = 5, scoring='roc_auc').mean()"
   ]
  },
  {
   "cell_type": "code",
   "execution_count": 434,
   "metadata": {},
   "outputs": [],
   "source": [
    "# #tune estimators - number of trees. max is the number of rows\n",
    "# estimator_range = range(10,800,40)\n",
    "\n",
    "# rfe_cv_scores_estimator = []\n",
    "\n",
    "# for estimator in estimator_range:\n",
    "#     rfe_cv_e = cross_val_score(RandomForestClassifier(n_estimators=estimator), X, Y, cv=5, scoring='accuracy').mean()\n",
    "#     rfe_cv_scores_estimator.append(rfe_cv_e)\n",
    "\n",
    "# #print sorted(zip(estimator_range, rfe_cv_scores_estimator),key=lambda x: x[1],reverse=True)[0]\n",
    "# print sorted(zip(rfe_cv_scores_estimator, estimator_range), reverse=True)\n",
    "\n",
    "# plt.figure(figsize=(10,5))\n",
    "# plt.plot(estimator_range, rfe_cv_scores_estimator, linewidth=5)\n",
    "# plt.show()\n",
    "\n",
    "# #tune max depth\n",
    "\n",
    "# depth = range(1,40)\n",
    "# rfe_cv_scores_depth = []\n",
    "\n",
    "# for i in depth:\n",
    "#     rfe_cv_d = cross_val_score(RandomForestClassifier(max_depth=i), X, Y, cv=5, scoring='accuracy').mean()\n",
    "#     rfe_cv_scores_depth.append(rfe_cv_d)\n",
    "\n",
    "# #print sorted(zip(depth, rfe_cv_scores_depth))[0]\n",
    "# print sorted(zip(rfe_cv_scores_depth, depth), reverse=True)\n",
    "\n",
    "# plt.figure(figsize=(10,5))\n",
    "# plt.plot(depth, rfe_cv_scores_depth, linewidth=5)\n",
    "# plt.show()\n",
    "\n",
    "# #tune max features\n",
    "# feature_range = range(1, len(X.columns) + 1)\n",
    "# rfe_cv_scores_range = []\n",
    "\n",
    "# print feature_range\n",
    "\n",
    "# for features in feature_range:\n",
    "#     rfe_cv_r = cross_val_score(RandomForestClassifier(max_features=features, max_depth=6, n_estimators=770), X, Y, cv=5, scoring='accuracy').mean()\n",
    "#     rfe_cv_scores_range.append(rfe_cv_r)\n",
    "\n",
    "# #print sorted(zip(feature_range, rfe_cv_scores_range))[0]\n",
    "# print sorted(zip(rfe_cv_scores_range, feature_range), reverse=True)\n",
    "\n",
    "# plt.figure(figsize=(10,5))\n",
    "# plt.plot(feature_range, rfe_cv_scores_range, linewidth=5)\n",
    "# plt.show()\n"
   ]
  },
  {
   "cell_type": "markdown",
   "metadata": {},
   "source": [
    "4.Adaboost"
   ]
  },
  {
   "cell_type": "code",
   "execution_count": 435,
   "metadata": {},
   "outputs": [
    {
     "name": "stdout",
     "output_type": "stream",
     "text": [
      "{'n_estimators': 14}\n",
      "0.0445943413903\n"
     ]
    }
   ],
   "source": [
    "#Ada Boost Grid Search\n",
    "\n",
    "ada_estimator_range = range(1,20, 1)\n",
    "\n",
    "param_grid_ada = {'n_estimators': rfe_estimator_range}\n",
    "\n",
    "grid_ada = GridSearchCV(estimator=AdaBoostClassifier(),\n",
    "                      param_grid = param_grid_ada, cv=5, scoring = 'recall')\n",
    "\n",
    "grid_ada.fit(X_train, y_train)\n",
    "print grid_ada.best_params_\n",
    "print grid_ada.best_score_"
   ]
  },
  {
   "cell_type": "code",
   "execution_count": 436,
   "metadata": {},
   "outputs": [
    {
     "data": {
      "text/plain": [
       "array([[0.54216849, 0.45783151],\n",
       "       [0.59491141, 0.40508859],\n",
       "       [0.55810432, 0.44189568],\n",
       "       [0.56854663, 0.43145337],\n",
       "       [0.5547948 , 0.4452052 ],\n",
       "       [0.55386669, 0.44613331],\n",
       "       [0.55810432, 0.44189568],\n",
       "       [0.55386669, 0.44613331],\n",
       "       [0.56816264, 0.43183736],\n",
       "       [0.5547948 , 0.4452052 ],\n",
       "       [0.52424755, 0.47575245],\n",
       "       [0.54549498, 0.45450502],\n",
       "       [0.55386669, 0.44613331],\n",
       "       [0.55386669, 0.44613331],\n",
       "       [0.5547948 , 0.4452052 ],\n",
       "       [0.52575619, 0.47424381],\n",
       "       [0.60599672, 0.39400328],\n",
       "       [0.54216849, 0.45783151],\n",
       "       [0.57984387, 0.42015613],\n",
       "       [0.54191482, 0.45808518],\n",
       "       [0.51931923, 0.48068077],\n",
       "       [0.5559982 , 0.4440018 ],\n",
       "       [0.54335445, 0.45664555],\n",
       "       [0.55111717, 0.44888283],\n",
       "       [0.53575759, 0.46424241],\n",
       "       [0.56854663, 0.43145337],\n",
       "       [0.55692543, 0.44307457],\n",
       "       [0.9430591 , 0.0569409 ],\n",
       "       [0.55810432, 0.44189568],\n",
       "       [0.55810432, 0.44189568],\n",
       "       [0.5559982 , 0.4440018 ],\n",
       "       [0.54216849, 0.45783151],\n",
       "       [0.5559982 , 0.4440018 ],\n",
       "       [0.54216849, 0.45783151],\n",
       "       [0.55692543, 0.44307457],\n",
       "       [0.60509937, 0.39490063],\n",
       "       [0.54335445, 0.45664555],\n",
       "       [0.58256679, 0.41743321],\n",
       "       [0.54216849, 0.45783151],\n",
       "       [0.54549498, 0.45450502],\n",
       "       [0.55692543, 0.44307457],\n",
       "       [0.54335445, 0.45664555],\n",
       "       [0.54335445, 0.45664555],\n",
       "       [0.55692543, 0.44307457],\n",
       "       [0.55386669, 0.44613331],\n",
       "       [0.52424755, 0.47575245],\n",
       "       [0.5094233 , 0.4905767 ],\n",
       "       [0.54335445, 0.45664555],\n",
       "       [0.59491141, 0.40508859],\n",
       "       [0.56854663, 0.43145337],\n",
       "       [0.54415878, 0.45584122],\n",
       "       [0.55386669, 0.44613331],\n",
       "       [0.5547948 , 0.4452052 ],\n",
       "       [0.55692543, 0.44307457],\n",
       "       [0.56854663, 0.43145337],\n",
       "       [0.60509937, 0.39490063],\n",
       "       [0.55386669, 0.44613331],\n",
       "       [0.5094233 , 0.4905767 ],\n",
       "       [0.54335445, 0.45664555],\n",
       "       [0.9430591 , 0.0569409 ],\n",
       "       [0.56854663, 0.43145337],\n",
       "       [0.51503286, 0.48496714],\n",
       "       [0.53726195, 0.46273805],\n",
       "       [0.59491141, 0.40508859],\n",
       "       [0.54335445, 0.45664555],\n",
       "       [0.55386669, 0.44613331],\n",
       "       [0.5547948 , 0.4452052 ],\n",
       "       [0.52708247, 0.47291753],\n",
       "       [0.5547948 , 0.4452052 ],\n",
       "       [0.56854663, 0.43145337],\n",
       "       [0.56854663, 0.43145337],\n",
       "       [0.9430591 , 0.0569409 ],\n",
       "       [0.5559982 , 0.4440018 ],\n",
       "       [0.52424755, 0.47575245],\n",
       "       [0.54549498, 0.45450502],\n",
       "       [0.48290661, 0.51709339],\n",
       "       [0.5547948 , 0.4452052 ],\n",
       "       [0.59491141, 0.40508859],\n",
       "       [0.55386669, 0.44613331],\n",
       "       [0.55692543, 0.44307457],\n",
       "       [0.5559982 , 0.4440018 ],\n",
       "       [0.5547948 , 0.4452052 ],\n",
       "       [0.54549498, 0.45450502],\n",
       "       [0.55810432, 0.44189568],\n",
       "       [0.56251962, 0.43748038],\n",
       "       [0.55692543, 0.44307457],\n",
       "       [0.54549498, 0.45450502],\n",
       "       [0.60509937, 0.39490063],\n",
       "       [0.56854663, 0.43145337],\n",
       "       [0.9430591 , 0.0569409 ],\n",
       "       [0.56854663, 0.43145337],\n",
       "       [0.55386669, 0.44613331],\n",
       "       [0.53694598, 0.46305402],\n",
       "       [0.56854663, 0.43145337],\n",
       "       [0.55810432, 0.44189568],\n",
       "       [0.54335445, 0.45664555],\n",
       "       [0.53067816, 0.46932184],\n",
       "       [0.55810432, 0.44189568],\n",
       "       [0.6160858 , 0.3839142 ],\n",
       "       [0.56525439, 0.43474561],\n",
       "       [0.53361042, 0.46638958],\n",
       "       [0.55692543, 0.44307457],\n",
       "       [0.54059388, 0.45940612],\n",
       "       [0.55386669, 0.44613331],\n",
       "       [0.55386669, 0.44613331],\n",
       "       [0.56215738, 0.43784262],\n",
       "       [0.60599672, 0.39400328],\n",
       "       [0.54549498, 0.45450502],\n",
       "       [0.54216849, 0.45783151],\n",
       "       [0.53067816, 0.46932184],\n",
       "       [0.60509937, 0.39490063],\n",
       "       [0.53067816, 0.46932184],\n",
       "       [0.60509937, 0.39490063],\n",
       "       [0.9430591 , 0.0569409 ],\n",
       "       [0.56724066, 0.43275934],\n",
       "       [0.5547948 , 0.4452052 ],\n",
       "       [0.55386669, 0.44613331],\n",
       "       [0.55111717, 0.44888283],\n",
       "       [0.54415878, 0.45584122],\n",
       "       [0.54059388, 0.45940612],\n",
       "       [0.9430591 , 0.0569409 ],\n",
       "       [0.60599672, 0.39400328],\n",
       "       [0.54191482, 0.45808518],\n",
       "       [0.55386669, 0.44613331],\n",
       "       [0.55692543, 0.44307457],\n",
       "       [0.55810432, 0.44189568],\n",
       "       [0.54123583, 0.45876417],\n",
       "       [0.54335445, 0.45664555],\n",
       "       [0.53545343, 0.46454657],\n",
       "       [0.52140656, 0.47859344],\n",
       "       [0.5559982 , 0.4440018 ],\n",
       "       [0.94529629, 0.05470371],\n",
       "       [0.54059388, 0.45940612],\n",
       "       [0.52708247, 0.47291753],\n",
       "       [0.55386669, 0.44613331],\n",
       "       [0.53267535, 0.46732465],\n",
       "       [0.55692543, 0.44307457],\n",
       "       [0.5206471 , 0.4793529 ],\n",
       "       [0.52575619, 0.47424381],\n",
       "       [0.59491141, 0.40508859],\n",
       "       [0.54191482, 0.45808518],\n",
       "       [0.55810432, 0.44189568],\n",
       "       [0.54549498, 0.45450502],\n",
       "       [0.53067816, 0.46932184],\n",
       "       [0.94285703, 0.05714297],\n",
       "       [0.57984387, 0.42015613],\n",
       "       [0.60509937, 0.39490063],\n",
       "       [0.94052636, 0.05947364],\n",
       "       [0.54123583, 0.45876417]])"
      ]
     },
     "execution_count": 436,
     "metadata": {},
     "output_type": "execute_result"
    }
   ],
   "source": [
    "ada.predict_proba(X_test)"
   ]
  },
  {
   "cell_type": "code",
   "execution_count": 558,
   "metadata": {},
   "outputs": [
    {
     "name": "stdout",
     "output_type": "stream",
     "text": [
      "Null accuracy of testing: 0    0.939597\n",
      "1    0.060403\n",
      "Name: biopsy, dtype: float64\n",
      "test model_score: 0.9328859060402684\n",
      "test precision_score: 0.07216494845360824\n",
      "test recall_score: 0.7777777777777778\n",
      "test roc score: 0.5674603174603174\n",
      "cross validation recall score: 0.01818181818181818\n",
      "cross validation roc score: 0.6259623207639711\n"
     ]
    }
   ],
   "source": [
    "ada = AdaBoostClassifier(**grid_ada.best_params_)\n",
    "ada.fit(X_train,y_train)\n",
    "#preds_ada = ada.predict(X_test)\n",
    "preds_ada = binarize(ada.predict_proba(X_test), 0.44)[:,1]\n",
    "\n",
    "print 'Null accuracy of testing:', y_test.value_counts(normalize=True)\n",
    "print 'test model_score:', ada.score(X_test,y_test)\n",
    "\n",
    "print 'test precision_score:', precision_score(y_test,preds_ada)\n",
    "print 'test recall_score:', recall_score(y_test,preds_ada)\n",
    "print 'test roc score:', roc_auc_score(y_test,preds_ada)\n",
    "\n",
    "print 'cross validation recall score:', cross_val_score(ada, X, Y, cv=5, scoring='recall').mean()\n",
    "print 'cross validation roc score:', cross_val_score(ada, X, Y, cv=5, scoring='roc_auc').mean()\n"
   ]
  },
  {
   "cell_type": "code",
   "execution_count": 438,
   "metadata": {},
   "outputs": [],
   "source": [
    "# estimators = range(1, 11, 1)\n",
    "# estimators\n",
    "\n",
    "# cv_scores=[]\n",
    "\n",
    "# for est in estimators:\n",
    "#     ada = AdaBoostClassifier(n_estimators = est)\n",
    "#     score = cross_val_score(ada, X, Y, cv=5, scoring = 'accuracy').mean()\n",
    "#     cv_scores.append(score)\n",
    "\n",
    "# plt.figure(figsize= (8, 7))\n",
    "# plt.plot(estimators, cv_scores, linewidth = 3)\n",
    "# plt.xlabel(\"N Estimators\")\n",
    "# plt.ylabel(\"Cross Validated Accuracy Scores\");\n",
    "\n",
    "# sorted(zip(cv_scores, estimators), reverse=True)"
   ]
  },
  {
   "cell_type": "code",
   "execution_count": 439,
   "metadata": {},
   "outputs": [
    {
     "data": {
      "text/html": [
       "<div>\n",
       "<style>\n",
       "    .dataframe thead tr:only-child th {\n",
       "        text-align: right;\n",
       "    }\n",
       "\n",
       "    .dataframe thead th {\n",
       "        text-align: left;\n",
       "    }\n",
       "\n",
       "    .dataframe tbody tr th {\n",
       "        vertical-align: top;\n",
       "    }\n",
       "</style>\n",
       "<table border=\"1\" class=\"dataframe\">\n",
       "  <thead>\n",
       "    <tr style=\"text-align: right;\">\n",
       "      <th>col_0</th>\n",
       "      <th>0.0</th>\n",
       "      <th>1.0</th>\n",
       "    </tr>\n",
       "    <tr>\n",
       "      <th>biopsy</th>\n",
       "      <th></th>\n",
       "      <th></th>\n",
       "    </tr>\n",
       "  </thead>\n",
       "  <tbody>\n",
       "    <tr>\n",
       "      <th>0</th>\n",
       "      <td>50</td>\n",
       "      <td>90</td>\n",
       "    </tr>\n",
       "    <tr>\n",
       "      <th>1</th>\n",
       "      <td>2</td>\n",
       "      <td>7</td>\n",
       "    </tr>\n",
       "  </tbody>\n",
       "</table>\n",
       "</div>"
      ],
      "text/plain": [
       "col_0   0.0  1.0\n",
       "biopsy          \n",
       "0        50   90\n",
       "1         2    7"
      ]
     },
     "execution_count": 439,
     "metadata": {},
     "output_type": "execute_result"
    }
   ],
   "source": [
    "#confusion matrix\n",
    "cm = confusion_matrix(y_test,preds_ada)\n",
    "pd.crosstab(y_test,preds_ada)"
   ]
  },
  {
   "cell_type": "code",
   "execution_count": 634,
   "metadata": {},
   "outputs": [
    {
     "data": {
      "text/plain": [
       "array([[0.55215381, 0.44784619],\n",
       "       [0.59673396, 0.40326604],\n",
       "       [0.55215381, 0.44784619],\n",
       "       [0.56457081, 0.43542919],\n",
       "       [0.55215381, 0.44784619],\n",
       "       [0.55215381, 0.44784619],\n",
       "       [0.55215381, 0.44784619],\n",
       "       [0.55385932, 0.44614068],\n",
       "       [0.53087564, 0.46912436],\n",
       "       [0.55215381, 0.44784619],\n",
       "       [0.52881696, 0.47118304],\n",
       "       [0.55215381, 0.44784619],\n",
       "       [0.56457081, 0.43542919],\n",
       "       [0.56457081, 0.43542919],\n",
       "       [0.55215381, 0.44784619],\n",
       "       [0.53297129, 0.46702871],\n",
       "       [0.57320533, 0.42679467],\n",
       "       [0.55215381, 0.44784619],\n",
       "       [0.55215381, 0.44784619],\n",
       "       [0.53493876, 0.46506124],\n",
       "       [0.50952279, 0.49047721],\n",
       "       [0.55215381, 0.44784619],\n",
       "       [0.54138499, 0.45861501],\n",
       "       [0.54548234, 0.45451766],\n",
       "       [0.52881696, 0.47118304],\n",
       "       [0.56457081, 0.43542919],\n",
       "       [0.55215381, 0.44784619],\n",
       "       [0.94200541, 0.05799459],\n",
       "       [0.54138499, 0.45861501],\n",
       "       [0.55215381, 0.44784619],\n",
       "       [0.56457081, 0.43542919],\n",
       "       [0.55215381, 0.44784619],\n",
       "       [0.55215381, 0.44784619],\n",
       "       [0.55215381, 0.44784619],\n",
       "       [0.55215381, 0.44784619],\n",
       "       [0.57320533, 0.42679467],\n",
       "       [0.56533761, 0.43466239],\n",
       "       [0.57320533, 0.42679467],\n",
       "       [0.55215381, 0.44784619],\n",
       "       [0.55215381, 0.44784619],\n",
       "       [0.55215381, 0.44784619],\n",
       "       [0.54138499, 0.45861501],\n",
       "       [0.55215381, 0.44784619],\n",
       "       [0.55215381, 0.44784619],\n",
       "       [0.55215381, 0.44784619],\n",
       "       [0.52881696, 0.47118304],\n",
       "       [0.51566567, 0.48433433],\n",
       "       [0.55215381, 0.44784619],\n",
       "       [0.57320533, 0.42679467],\n",
       "       [0.58823351, 0.41176649],\n",
       "       [0.52881696, 0.47118304],\n",
       "       [0.54138499, 0.45861501],\n",
       "       [0.51419604, 0.48580396],\n",
       "       [0.55215381, 0.44784619],\n",
       "       [0.55385932, 0.44614068],\n",
       "       [0.58547684, 0.41452316],\n",
       "       [0.56457081, 0.43542919],\n",
       "       [0.55818319, 0.44181681],\n",
       "       [0.54138499, 0.45861501],\n",
       "       [0.94200541, 0.05799459],\n",
       "       [0.56457081, 0.43542919],\n",
       "       [0.52209874, 0.47790126],\n",
       "       [0.53297129, 0.46702871],\n",
       "       [0.57320533, 0.42679467],\n",
       "       [0.55215381, 0.44784619],\n",
       "       [0.54138499, 0.45861501],\n",
       "       [0.55215381, 0.44784619],\n",
       "       [0.53212597, 0.46787403],\n",
       "       [0.55215381, 0.44784619],\n",
       "       [0.56457081, 0.43542919],\n",
       "       [0.55215381, 0.44784619],\n",
       "       [0.94200541, 0.05799459],\n",
       "       [0.55215381, 0.44784619],\n",
       "       [0.51797687, 0.48202313],\n",
       "       [0.55215381, 0.44784619],\n",
       "       [0.49685149, 0.50314851],\n",
       "       [0.55215381, 0.44784619],\n",
       "       [0.58623381, 0.41376619],\n",
       "       [0.56457081, 0.43542919],\n",
       "       [0.55215381, 0.44784619],\n",
       "       [0.56457081, 0.43542919],\n",
       "       [0.55215381, 0.44784619],\n",
       "       [0.55215381, 0.44784619],\n",
       "       [0.55215381, 0.44784619],\n",
       "       [0.58747632, 0.41252368],\n",
       "       [0.55215381, 0.44784619],\n",
       "       [0.55215381, 0.44784619],\n",
       "       [0.57320533, 0.42679467],\n",
       "       [0.55215381, 0.44784619],\n",
       "       [0.94200541, 0.05799459],\n",
       "       [0.56457081, 0.43542919],\n",
       "       [0.56457081, 0.43542919],\n",
       "       [0.52881696, 0.47118304],\n",
       "       [0.56457081, 0.43542919],\n",
       "       [0.55215381, 0.44784619],\n",
       "       [0.54138499, 0.45861501],\n",
       "       [0.55215381, 0.44784619],\n",
       "       [0.53301298, 0.46698702],\n",
       "       [0.58547684, 0.41452316],\n",
       "       [0.56457081, 0.43542919],\n",
       "       [0.55288388, 0.44711612],\n",
       "       [0.55215381, 0.44784619],\n",
       "       [0.55700377, 0.44299623],\n",
       "       [0.56457081, 0.43542919],\n",
       "       [0.55215381, 0.44784619],\n",
       "       [0.54803153, 0.45196847],\n",
       "       [0.57320533, 0.42679467],\n",
       "       [0.55215381, 0.44784619],\n",
       "       [0.55215381, 0.44784619],\n",
       "       [0.55215381, 0.44784619],\n",
       "       [0.58547684, 0.41452316],\n",
       "       [0.55215381, 0.44784619],\n",
       "       [0.60879068, 0.39120932],\n",
       "       [0.94200541, 0.05799459],\n",
       "       [0.585435  , 0.414565  ],\n",
       "       [0.55215381, 0.44784619],\n",
       "       [0.55215381, 0.44784619],\n",
       "       [0.53468828, 0.46531172],\n",
       "       [0.54134353, 0.45865647],\n",
       "       [0.59871635, 0.40128365],\n",
       "       [0.94200541, 0.05799459],\n",
       "       [0.57320533, 0.42679467],\n",
       "       [0.52129309, 0.47870691],\n",
       "       [0.56457081, 0.43542919],\n",
       "       [0.55215381, 0.44784619],\n",
       "       [0.54138499, 0.45861501],\n",
       "       [0.56457081, 0.43542919],\n",
       "       [0.55215381, 0.44784619],\n",
       "       [0.55335739, 0.44664261],\n",
       "       [0.56457081, 0.43542919],\n",
       "       [0.55215381, 0.44784619],\n",
       "       [0.94200541, 0.05799459],\n",
       "       [0.56456948, 0.43543052],\n",
       "       [0.53212597, 0.46787403],\n",
       "       [0.56457081, 0.43542919],\n",
       "       [0.54134353, 0.45865647],\n",
       "       [0.55215381, 0.44784619],\n",
       "       [0.5114985 , 0.4885015 ],\n",
       "       [0.57522105, 0.42477895],\n",
       "       [0.56494741, 0.43505259],\n",
       "       [0.53493876, 0.46506124],\n",
       "       [0.54138499, 0.45861501],\n",
       "       [0.55215381, 0.44784619],\n",
       "       [0.55215381, 0.44784619],\n",
       "       [0.94200541, 0.05799459],\n",
       "       [0.56457081, 0.43542919],\n",
       "       [0.60879068, 0.39120932],\n",
       "       [0.94200541, 0.05799459],\n",
       "       [0.55215381, 0.44784619]])"
      ]
     },
     "execution_count": 634,
     "metadata": {},
     "output_type": "execute_result"
    }
   ],
   "source": [
    "ada.predict_proba(X_test)"
   ]
  },
  {
   "cell_type": "code",
   "execution_count": 440,
   "metadata": {},
   "outputs": [
    {
     "data": {
      "image/png": "[encoded data removed]",
      "text/plain": [
       "<matplotlib.figure.Figure at 0x1a0f903950>"
      ]
     },
     "metadata": {},
     "output_type": "display_data"
    },
    {
     "name": "stdout",
     "output_type": "stream",
     "text": [
      "Train Set ROC: 0.48690476190476184\n",
      "Cross Val ROC: 0.6264034505640345\n"
     ]
    }
   ],
   "source": [
    "#roc curve\n",
    "ada_test_probs = ada.predict_proba(X_test)[:,1]\n",
    "fpr, tpr, thres = roc_curve(y_test, ada_test_probs)\n",
    "\n",
    "plt.figure(figsize=(13,10))\n",
    "plt.plot(fpr, tpr, linewidth=8)\n",
    "#Line of randomness\n",
    "plt.plot([0,1], [0,1], \"--\", alpha=.7)\n",
    "for label, x, y in zip(thres[::5], fpr[::5], tpr[::5]):\n",
    "    plt.annotate(\"{0:.2f}\".format(label), xy=(x, y ), size = 15)\n",
    "plt.xlabel(\"False Positive Rate\")\n",
    "plt.ylabel(\"True Positive Rate\")\n",
    "plt.title(\"ROC Curve\")\n",
    "plt.show()\n",
    "\n",
    "print 'Train Set ROC:', roc_auc_score(y_test, ada_test_probs)\n",
    "print 'Cross Val ROC:', cross_val_score(ada, X, Y, cv = 5, scoring='roc_auc').mean()"
   ]
  },
  {
   "cell_type": "markdown",
   "metadata": {},
   "source": [
    "5.K Neighbors"
   ]
  },
  {
   "cell_type": "code",
   "execution_count": 521,
   "metadata": {},
   "outputs": [
    {
     "data": {
      "text/plain": [
       "0.9261744966442953"
      ]
     },
     "execution_count": 521,
     "metadata": {},
     "output_type": "execute_result"
    }
   ],
   "source": [
    "knn=KNeighborsClassifier(n_neighbors=3)\n",
    "knn.fit(X_train, y_train)\n",
    "preds_knn = knn.predict(X_test)\n",
    "knn.score(X_test, y_test)"
   ]
  },
  {
   "cell_type": "code",
   "execution_count": 586,
   "metadata": {},
   "outputs": [
    {
     "data": {
      "text/plain": [
       "array([[138,   2],\n",
       "       [  9,   0]])"
      ]
     },
     "execution_count": 586,
     "metadata": {},
     "output_type": "execute_result"
    }
   ],
   "source": [
    "cm = confusion_matrix(y_test, preds_knn)\n",
    "cm"
   ]
  },
  {
   "cell_type": "markdown",
   "metadata": {},
   "source": [
    "6.Down Sampling"
   ]
  },
  {
   "cell_type": "code",
   "execution_count": 590,
   "metadata": {},
   "outputs": [
    {
     "data": {
      "text/plain": [
       "1    53\n",
       "0    53\n",
       "Name: biopsy, dtype: int64"
      ]
     },
     "execution_count": 590,
     "metadata": {},
     "output_type": "execute_result"
    }
   ],
   "source": [
    "from sklearn.utils import resample\n",
    "\n",
    "N = df['biopsy'].value_counts()[1]\n",
    "\n",
    "cancer_maj = df[df['biopsy'] ==0]\n",
    "cancer_min = df[df['biopsy'] ==1]\n",
    "\n",
    "#Downsample the majority class\n",
    "cancer_majority_downsample = resample(cancer_maj, replace=False,\n",
    "                                     n_samples = N)\n",
    "\n",
    "cancer_ds = pd.concat([cancer_majority_downsample, cancer_min])\n",
    "\n",
    "cancer_ds['biopsy'].value_counts() #should be 53 in each"
   ]
  },
  {
   "cell_type": "code",
   "execution_count": 591,
   "metadata": {},
   "outputs": [],
   "source": [
    "X_ds = cancer_ds.drop(['hinselmann', 'schiller', 'citology', 'biopsy'], axis=1)\n",
    "Y_ds = cancer_ds['biopsy']"
   ]
  },
  {
   "cell_type": "code",
   "execution_count": 592,
   "metadata": {},
   "outputs": [
    {
     "name": "stdout",
     "output_type": "stream",
     "text": [
      "accuracy: 0.6236363636363638\n",
      "precison: 0.6533333333333333\n",
      "recall: 0.5327272727272727\n",
      "roc_auc: 0.5861487603305785\n"
     ]
    }
   ],
   "source": [
    "print 'accuracy:', cross_val_score(linear_model.LogisticRegression(), X_ds, Y_ds, cv = 5, scoring=\"accuracy\").mean()\n",
    "print 'precison:', cross_val_score(linear_model.LogisticRegression(), X_ds, Y_ds, cv = 5, scoring=\"precision\").mean()\n",
    "print 'recall:', cross_val_score(linear_model.LogisticRegression(), X_ds, Y_ds, cv = 5, scoring=\"recall\").mean()\n",
    "print 'roc_auc:', cross_val_score(linear_model.LogisticRegression(), X_ds, Y_ds, cv = 5, scoring=\"roc_auc\").mean()"
   ]
  },
  {
   "cell_type": "code",
   "execution_count": 602,
   "metadata": {},
   "outputs": [],
   "source": [
    "#train on downsample data and apply to imbalanced dataset\n",
    "train = X_train.copy()\n",
    "train['Biopsy'] = y_train"
   ]
  },
  {
   "cell_type": "code",
   "execution_count": 603,
   "metadata": {},
   "outputs": [
    {
     "data": {
      "text/plain": [
       "0    549\n",
       "1     44\n",
       "Name: Biopsy, dtype: int64"
      ]
     },
     "execution_count": 603,
     "metadata": {},
     "output_type": "execute_result"
    }
   ],
   "source": [
    "train['Biopsy'].value_counts()"
   ]
  },
  {
   "cell_type": "code",
   "execution_count": 610,
   "metadata": {},
   "outputs": [
    {
     "data": {
      "text/plain": [
       "1    44\n",
       "0    44\n",
       "Name: Biopsy, dtype: int64"
      ]
     },
     "execution_count": 610,
     "metadata": {},
     "output_type": "execute_result"
    }
   ],
   "source": [
    "N = train['Biopsy'].value_counts()[1]\n",
    "\n",
    "cancer_maj = train[train['Biopsy'] ==0]\n",
    "cancer_min = train[train['Biopsy'] ==1]\n",
    "\n",
    "cancer_majority_downsampled = resample(cancer_maj, replace = False,\n",
    "                                      n_samples=N)\n",
    "\n",
    "cancer_ds = pd.concat([cancer_majority_downsampled, cancer_min])\n",
    "\n",
    "cancer_ds['Biopsy'].value_counts()"
   ]
  },
  {
   "cell_type": "code",
   "execution_count": 613,
   "metadata": {},
   "outputs": [
    {
     "name": "stdout",
     "output_type": "stream",
     "text": [
      "accuracy: 0.6845637583892618\n",
      "precision: 0.08695652173913043\n",
      "recall: 0.4444444444444444\n",
      "ROC: 0.5722222222222222\n",
      "Cross Val ROC: 0.6506172839506174\n"
     ]
    }
   ],
   "source": [
    "cancer_ds_X = cancer_ds.drop('Biopsy', axis = 1)\n",
    "cancer_ds_y = cancer_ds['Biopsy']\n",
    "up_log = linear_model.LogisticRegression()\n",
    "up_log.fit(cancer_ds_X, cancer_ds_y) #train model on the downsampled training data set\n",
    "\n",
    "y_test.value_counts(normalize=True)\n",
    "up_preds = up_log.predict(X_test) #test model on the original training set \n",
    "\n",
    "print 'accuracy:', accuracy_score(y_test, up_preds)\n",
    "print 'precision:',precision_score(y_test, up_preds)\n",
    "print 'recall:', recall_score(y_test, up_preds)\n",
    "print 'ROC:', roc_auc_score(y_test, up_preds)\n",
    "\n",
    "print 'Cross Val ROC:', cross_val_score(up_log, cancer_ds_X, cancer_ds_y,cv = 5, scoring='roc_auc').mean()"
   ]
  },
  {
   "cell_type": "code",
   "execution_count": 614,
   "metadata": {},
   "outputs": [
    {
     "data": {
      "text/plain": [
       "array([[98, 42],\n",
       "       [ 5,  4]])"
      ]
     },
     "execution_count": 614,
     "metadata": {},
     "output_type": "execute_result"
    }
   ],
   "source": [
    "confusion_matrix(y_test,up_preds)"
   ]
  },
  {
   "cell_type": "markdown",
   "metadata": {},
   "source": [
    "7.TRY UPSAMPLING"
   ]
  },
  {
   "cell_type": "code",
   "execution_count": 618,
   "metadata": {},
   "outputs": [
    {
     "data": {
      "text/plain": [
       "1    689\n",
       "0    689\n",
       "Name: biopsy, dtype: int64"
      ]
     },
     "execution_count": 618,
     "metadata": {},
     "output_type": "execute_result"
    }
   ],
   "source": [
    "#assign number of training dataset to variable \n",
    "N = Y.value_counts()[0]\n",
    "\n",
    "cancer_maj = df[df['biopsy'] ==0]\n",
    "cancer_min = df[df['biopsy'] ==1]\n",
    "\n",
    "#Downsample the majority cl\"ass\n",
    "cancer_minority_upsampled = resample(cancer_min, replace=True,\n",
    "                                     n_samples = N)\n",
    "\n",
    "#combine majority with the minority\n",
    "cancer_ds = pd.concat([cancer_minority_upsampled, cancer_maj])\n",
    "\n",
    "cancer_ds['biopsy'].value_counts()"
   ]
  },
  {
   "cell_type": "code",
   "execution_count": 619,
   "metadata": {},
   "outputs": [
    {
     "name": "stdout",
     "output_type": "stream",
     "text": [
      "accuracy: 0.7986577181208053\n",
      "precision: 0.16129032258064516\n",
      "recall: 0.5555555555555556\n",
      "ROC: 0.6849206349206349\n",
      "Cross Val ROC: 0.7033172193813846\n"
     ]
    },
    {
     "data": {
      "text/plain": [
       "array([[114,  26],\n",
       "       [  4,   5]])"
      ]
     },
     "execution_count": 619,
     "metadata": {},
     "output_type": "execute_result"
    }
   ],
   "source": [
    "up_X_ds = cancer_ds.drop(['hinselmann', 'schiller', 'citology', 'biopsy'], axis=1)\n",
    "up_Y_ds = cancer_ds['biopsy']\n",
    "log = linear_model.LogisticRegression()\n",
    "log.fit(up_X_ds, up_Y_ds)\n",
    "\n",
    "y_test.value_counts(normalize=True)\n",
    "preds = log.predict(X_test)\n",
    "\n",
    "print 'accuracy:', accuracy_score(y_test, preds)\n",
    "print 'precision:',precision_score(y_test, preds)\n",
    "print 'recall:', recall_score(y_test, preds)\n",
    "print 'ROC:', roc_auc_score(y_test, preds)\n",
    "\n",
    "print 'Cross Val ROC:', cross_val_score(up_log, up_X_ds, up_Y_ds,cv = 5, scoring='roc_auc').mean()\n",
    "\n",
    "confusion_matrix(y_test,preds)"
   ]
  },
  {
   "cell_type": "code",
   "execution_count": null,
   "metadata": {
    "collapsed": true
   },
   "outputs": [],
   "source": []
  },
  {
   "cell_type": "code",
   "execution_count": null,
   "metadata": {
    "collapsed": true
   },
   "outputs": [],
   "source": []
  },
  {
   "cell_type": "code",
   "execution_count": null,
   "metadata": {
    "collapsed": true
   },
   "outputs": [],
   "source": []
  }
 ],
 "metadata": {
  "kernelspec": {
   "display_name": "Python 2",
   "language": "python",
   "name": "python2"
  },
  "language_info": {
   "codemirror_mode": {
    "name": "ipython",
    "version": 2
   },
   "file_extension": ".py",
   "mimetype": "text/x-python",
   "name": "python",
   "nbconvert_exporter": "python",
   "pygments_lexer": "ipython2",
   "version": "2.7.14"
  }
 },
 "nbformat": 4,
 "nbformat_minor": 2
}
